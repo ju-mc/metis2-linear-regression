{
 "cells": [
  {
   "cell_type": "code",
   "execution_count": 295,
   "id": "applicable-smell",
   "metadata": {},
   "outputs": [],
   "source": [
    "import pandas as pd\n",
    "import numpy as np\n",
    "import matplotlib.pyplot as plt\n",
    "%matplotlib inline\n",
    "import seaborn as sns\n",
    "sns.set()\n",
    "from sklearn.linear_model import LinearRegression\n",
    "from sklearn.linear_model import Ridge, Lasso, LassoCV, RidgeCV\n",
    "from sklearn.model_selection import train_test_split, cross_val_score, KFold\n",
    "from sklearn.preprocessing import StandardScaler, PolynomialFeatures\n",
    "import statsmodels.api as sm\n",
    "import statsmodels.formula.api as smf\n",
    "import patsy\n",
    "from sklearn.linear_model import RidgeCV\n",
    "from sklearn.datasets import load_boston\n",
    "from sklearn.ensemble import RandomForestRegressor"
   ]
  },
  {
   "cell_type": "code",
   "execution_count": 296,
   "id": "selective-worst",
   "metadata": {},
   "outputs": [],
   "source": [
    "df=pd.read_csv('movies_linear_regression_Final.csv')\n",
    "df=df.drop(['Unnamed: 0'],axis=1)"
   ]
  },
  {
   "cell_type": "code",
   "execution_count": 297,
   "id": "dominant-berkeley",
   "metadata": {},
   "outputs": [],
   "source": [
    "holiday_df=pd.read_csv('holidays.csv')\n",
    "holiday_df=holiday_df.drop(['Unnamed: 0'],axis=1)\n",
    "df['Holiday_Season']=holiday_df"
   ]
  },
  {
   "cell_type": "code",
   "execution_count": 298,
   "id": "interpreted-water",
   "metadata": {},
   "outputs": [],
   "source": [
    "tropes_df=pd.read_csv('tropes.csv')\n",
    "tropes_df=tropes_df.drop(['Unnamed: 0'],axis=1)\n",
    "df['Trope_Count']=tropes_df"
   ]
  },
  {
   "cell_type": "code",
   "execution_count": 299,
   "id": "elegant-bradford",
   "metadata": {},
   "outputs": [],
   "source": [
    "domestic_rev=pd.read_csv('domestic_revenue.csv')\n",
    "domestic_rev=domestic_rev.drop(['Unnamed: 0'],axis=1)\n",
    "df['Domestic']=domestic_rev"
   ]
  },
  {
   "cell_type": "code",
   "execution_count": 300,
   "id": "broadband-overhead",
   "metadata": {},
   "outputs": [],
   "source": [
    "#df=pd.read_csv('movies_lr_Final_fixedbudgets.csv')"
   ]
  },
  {
   "cell_type": "code",
   "execution_count": 301,
   "id": "decent-karma",
   "metadata": {
    "scrolled": true
   },
   "outputs": [
    {
     "data": {
      "text/html": [
       "<div>\n",
       "<style scoped>\n",
       "    .dataframe tbody tr th:only-of-type {\n",
       "        vertical-align: middle;\n",
       "    }\n",
       "\n",
       "    .dataframe tbody tr th {\n",
       "        vertical-align: top;\n",
       "    }\n",
       "\n",
       "    .dataframe thead th {\n",
       "        text-align: right;\n",
       "    }\n",
       "</style>\n",
       "<table border=\"1\" class=\"dataframe\">\n",
       "  <thead>\n",
       "    <tr style=\"text-align: right;\">\n",
       "      <th></th>\n",
       "      <th>Title</th>\n",
       "      <th>Revenue</th>\n",
       "      <th>Runtime</th>\n",
       "      <th>Actor_Rankings</th>\n",
       "      <th>PG13</th>\n",
       "      <th>PG</th>\n",
       "      <th>R</th>\n",
       "      <th>G</th>\n",
       "      <th>Approved</th>\n",
       "      <th>Unrated</th>\n",
       "      <th>...</th>\n",
       "      <th>Thriller</th>\n",
       "      <th>War</th>\n",
       "      <th>Crime</th>\n",
       "      <th>Romance</th>\n",
       "      <th>Horror</th>\n",
       "      <th>Western</th>\n",
       "      <th>Biography</th>\n",
       "      <th>Holiday_Season</th>\n",
       "      <th>Trope_Count</th>\n",
       "      <th>Domestic</th>\n",
       "    </tr>\n",
       "  </thead>\n",
       "  <tbody>\n",
       "    <tr>\n",
       "      <th>0</th>\n",
       "      <td>Star Wars: Episode VII - The Force Awakens</td>\n",
       "      <td>2.068456e+09</td>\n",
       "      <td>138.0</td>\n",
       "      <td>4</td>\n",
       "      <td>1</td>\n",
       "      <td>0</td>\n",
       "      <td>0</td>\n",
       "      <td>0</td>\n",
       "      <td>0</td>\n",
       "      <td>0</td>\n",
       "      <td>...</td>\n",
       "      <td>0</td>\n",
       "      <td>0</td>\n",
       "      <td>0</td>\n",
       "      <td>0</td>\n",
       "      <td>0</td>\n",
       "      <td>0</td>\n",
       "      <td>0</td>\n",
       "      <td>1.0</td>\n",
       "      <td>9</td>\n",
       "      <td>936662225.0</td>\n",
       "    </tr>\n",
       "    <tr>\n",
       "      <th>1</th>\n",
       "      <td>Avengers: Endgame</td>\n",
       "      <td>2.797501e+09</td>\n",
       "      <td>181.0</td>\n",
       "      <td>3</td>\n",
       "      <td>1</td>\n",
       "      <td>0</td>\n",
       "      <td>0</td>\n",
       "      <td>0</td>\n",
       "      <td>0</td>\n",
       "      <td>0</td>\n",
       "      <td>...</td>\n",
       "      <td>0</td>\n",
       "      <td>0</td>\n",
       "      <td>0</td>\n",
       "      <td>0</td>\n",
       "      <td>0</td>\n",
       "      <td>0</td>\n",
       "      <td>0</td>\n",
       "      <td>0.0</td>\n",
       "      <td>17</td>\n",
       "      <td>858373000.0</td>\n",
       "    </tr>\n",
       "    <tr>\n",
       "      <th>2</th>\n",
       "      <td>Avatar</td>\n",
       "      <td>2.847246e+09</td>\n",
       "      <td>162.0</td>\n",
       "      <td>4</td>\n",
       "      <td>1</td>\n",
       "      <td>0</td>\n",
       "      <td>0</td>\n",
       "      <td>0</td>\n",
       "      <td>0</td>\n",
       "      <td>0</td>\n",
       "      <td>...</td>\n",
       "      <td>0</td>\n",
       "      <td>0</td>\n",
       "      <td>0</td>\n",
       "      <td>0</td>\n",
       "      <td>0</td>\n",
       "      <td>0</td>\n",
       "      <td>0</td>\n",
       "      <td>1.0</td>\n",
       "      <td>11</td>\n",
       "      <td>760507625.0</td>\n",
       "    </tr>\n",
       "    <tr>\n",
       "      <th>3</th>\n",
       "      <td>Black Panther</td>\n",
       "      <td>1.347598e+09</td>\n",
       "      <td>134.0</td>\n",
       "      <td>3</td>\n",
       "      <td>1</td>\n",
       "      <td>0</td>\n",
       "      <td>0</td>\n",
       "      <td>0</td>\n",
       "      <td>0</td>\n",
       "      <td>0</td>\n",
       "      <td>...</td>\n",
       "      <td>0</td>\n",
       "      <td>0</td>\n",
       "      <td>0</td>\n",
       "      <td>0</td>\n",
       "      <td>0</td>\n",
       "      <td>0</td>\n",
       "      <td>0</td>\n",
       "      <td>0.0</td>\n",
       "      <td>9</td>\n",
       "      <td>700426566.0</td>\n",
       "    </tr>\n",
       "    <tr>\n",
       "      <th>4</th>\n",
       "      <td>Avengers: Infinity War</td>\n",
       "      <td>NaN</td>\n",
       "      <td>149.0</td>\n",
       "      <td>3</td>\n",
       "      <td>1</td>\n",
       "      <td>0</td>\n",
       "      <td>0</td>\n",
       "      <td>0</td>\n",
       "      <td>0</td>\n",
       "      <td>0</td>\n",
       "      <td>...</td>\n",
       "      <td>0</td>\n",
       "      <td>0</td>\n",
       "      <td>0</td>\n",
       "      <td>0</td>\n",
       "      <td>0</td>\n",
       "      <td>0</td>\n",
       "      <td>0</td>\n",
       "      <td>0.0</td>\n",
       "      <td>11</td>\n",
       "      <td>678815482.0</td>\n",
       "    </tr>\n",
       "  </tbody>\n",
       "</table>\n",
       "<p>5 rows × 32 columns</p>\n",
       "</div>"
      ],
      "text/plain": [
       "                                        Title       Revenue  Runtime  \\\n",
       "0  Star Wars: Episode VII - The Force Awakens  2.068456e+09    138.0   \n",
       "1                           Avengers: Endgame  2.797501e+09    181.0   \n",
       "2                                      Avatar  2.847246e+09    162.0   \n",
       "3                               Black Panther  1.347598e+09    134.0   \n",
       "4                      Avengers: Infinity War           NaN    149.0   \n",
       "\n",
       "   Actor_Rankings  PG13  PG  R  G  Approved  Unrated  ...  Thriller  War  \\\n",
       "0               4     1   0  0  0         0        0  ...         0    0   \n",
       "1               3     1   0  0  0         0        0  ...         0    0   \n",
       "2               4     1   0  0  0         0        0  ...         0    0   \n",
       "3               3     1   0  0  0         0        0  ...         0    0   \n",
       "4               3     1   0  0  0         0        0  ...         0    0   \n",
       "\n",
       "   Crime  Romance  Horror  Western  Biography  Holiday_Season  Trope_Count  \\\n",
       "0      0        0       0        0          0             1.0            9   \n",
       "1      0        0       0        0          0             0.0           17   \n",
       "2      0        0       0        0          0             1.0           11   \n",
       "3      0        0       0        0          0             0.0            9   \n",
       "4      0        0       0        0          0             0.0           11   \n",
       "\n",
       "      Domestic  \n",
       "0  936662225.0  \n",
       "1  858373000.0  \n",
       "2  760507625.0  \n",
       "3  700426566.0  \n",
       "4  678815482.0  \n",
       "\n",
       "[5 rows x 32 columns]"
      ]
     },
     "execution_count": 301,
     "metadata": {},
     "output_type": "execute_result"
    }
   ],
   "source": [
    "#df=df.drop(['Budget'],axis=1)\n",
    "df.head()"
   ]
  },
  {
   "cell_type": "code",
   "execution_count": 302,
   "id": "premium-tongue",
   "metadata": {},
   "outputs": [
    {
     "data": {
      "text/plain": [
       "0.6021188934667452"
      ]
     },
     "execution_count": 302,
     "metadata": {},
     "output_type": "execute_result"
    }
   ],
   "source": [
    "df['Revenue'].isna().sum()/1699"
   ]
  },
  {
   "cell_type": "code",
   "execution_count": 303,
   "id": "representative-wallpaper",
   "metadata": {},
   "outputs": [],
   "source": [
    "directors_df=pd.read_csv('directors.csv')"
   ]
  },
  {
   "cell_type": "code",
   "execution_count": 304,
   "id": "incorporated-university",
   "metadata": {},
   "outputs": [],
   "source": [
    "directors_df=directors_df.drop(['Unnamed: 0'],axis=1)"
   ]
  },
  {
   "cell_type": "code",
   "execution_count": 305,
   "id": "experimental-disaster",
   "metadata": {},
   "outputs": [],
   "source": [
    "df['Director_Rankings']=directors_df['Director Rankings']"
   ]
  },
  {
   "cell_type": "code",
   "execution_count": 306,
   "id": "numerical-andrews",
   "metadata": {},
   "outputs": [],
   "source": [
    "#movies_df.dropna(subset = [\"Revenue\"], inplace=True)\n",
    "#movies_df['Revenue']=movies_df['Revenue'].fillna(0) \n",
    "#movies_df=movies_df.fillna(0)\n",
    "movies_df=df.dropna()"
   ]
  },
  {
   "cell_type": "code",
   "execution_count": 307,
   "id": "beautiful-effect",
   "metadata": {},
   "outputs": [
    {
     "name": "stderr",
     "output_type": "stream",
     "text": [
      "<ipython-input-307-ecbda9214a4c>:1: SettingWithCopyWarning: \n",
      "A value is trying to be set on a copy of a slice from a DataFrame.\n",
      "Try using .loc[row_indexer,col_indexer] = value instead\n",
      "\n",
      "See the caveats in the documentation: https://pandas.pydata.org/pandas-docs/stable/user_guide/indexing.html#returning-a-view-versus-a-copy\n",
      "  movies_df['Revenue']=movies_df['Revenue'].astype('int64')\n",
      "<ipython-input-307-ecbda9214a4c>:2: SettingWithCopyWarning: \n",
      "A value is trying to be set on a copy of a slice from a DataFrame.\n",
      "Try using .loc[row_indexer,col_indexer] = value instead\n",
      "\n",
      "See the caveats in the documentation: https://pandas.pydata.org/pandas-docs/stable/user_guide/indexing.html#returning-a-view-versus-a-copy\n",
      "  movies_df['Holiday_Season']=movies_df['Holiday_Season'].astype('int64')\n",
      "<ipython-input-307-ecbda9214a4c>:3: SettingWithCopyWarning: \n",
      "A value is trying to be set on a copy of a slice from a DataFrame.\n",
      "Try using .loc[row_indexer,col_indexer] = value instead\n",
      "\n",
      "See the caveats in the documentation: https://pandas.pydata.org/pandas-docs/stable/user_guide/indexing.html#returning-a-view-versus-a-copy\n",
      "  movies_df['Domestic']=movies_df['Domestic'].astype('int64')\n"
     ]
    }
   ],
   "source": [
    "movies_df['Revenue']=movies_df['Revenue'].astype('int64')\n",
    "movies_df['Holiday_Season']=movies_df['Holiday_Season'].astype('int64')\n",
    "movies_df['Domestic']=movies_df['Domestic'].astype('int64')\n",
    "#movies_df['Budget']=movies_df['Budget'].astype('int64')"
   ]
  },
  {
   "cell_type": "code",
   "execution_count": 308,
   "id": "hourly-grove",
   "metadata": {
    "scrolled": true
   },
   "outputs": [
    {
     "data": {
      "text/plain": [
       "count    6.740000e+02\n",
       "mean     1.863178e+08\n",
       "std      3.180992e+08\n",
       "min      2.680000e+03\n",
       "25%      9.979213e+06\n",
       "50%      6.506389e+07\n",
       "75%      1.962588e+08\n",
       "max      2.847246e+09\n",
       "Name: Revenue, dtype: float64"
      ]
     },
     "execution_count": 308,
     "metadata": {},
     "output_type": "execute_result"
    }
   ],
   "source": [
    "movies_df.Revenue.describe()"
   ]
  },
  {
   "cell_type": "code",
   "execution_count": 309,
   "id": "postal-insertion",
   "metadata": {},
   "outputs": [
    {
     "name": "stdout",
     "output_type": "stream",
     "text": [
      "['Title', 'Revenue', 'Runtime', 'Actor_Rankings', 'PG13', 'PG', 'R', 'G', 'Approved', 'Unrated', 'M', 'Passed', 'NA', 'Budget', 'Action', 'Adventure', 'Drama', 'Fantasy', 'Animation', 'Comedy', 'Family', 'Mystery', 'Thriller', 'War', 'Crime', 'Romance', 'Horror', 'Western', 'Biography', 'Holiday_Season', 'Trope_Count', 'Domestic', 'Director_Rankings']\n"
     ]
    }
   ],
   "source": [
    "print(movies_df.columns.tolist())"
   ]
  },
  {
   "cell_type": "code",
   "execution_count": 310,
   "id": "mobile-complex",
   "metadata": {},
   "outputs": [
    {
     "data": {
      "text/plain": [
       "1    373\n",
       "0    301\n",
       "Name: Action, dtype: int64"
      ]
     },
     "execution_count": 310,
     "metadata": {},
     "output_type": "execute_result"
    }
   ],
   "source": [
    "movies_df.Action.value_counts()"
   ]
  },
  {
   "cell_type": "code",
   "execution_count": 311,
   "id": "marine-hunger",
   "metadata": {},
   "outputs": [
    {
     "name": "stdout",
     "output_type": "stream",
     "text": [
      "action:  1    373\n",
      "0    301\n",
      "Name: Action, dtype: int64\n",
      "adventure:  0    362\n",
      "1    312\n",
      "Name: Adventure, dtype: int64\n",
      "drama:  0    458\n",
      "1    216\n",
      "Name: Drama, dtype: int64\n",
      "Fantasy:  0    527\n",
      "1    147\n",
      "Name: Fantasy, dtype: int64\n",
      "Animation:  0    585\n",
      "1     89\n",
      "Name: Animation, dtype: int64\n",
      "Comedy:  0    502\n",
      "1    172\n",
      "Name: Comedy, dtype: int64\n",
      "Family:  0    571\n",
      "1    103\n",
      "Name: Family, dtype: int64\n",
      "Mystery:  0    569\n",
      "1    105\n",
      "Name: Mystery, dtype: int64\n",
      "Thriller:  0    395\n",
      "1    279\n",
      "Name: Thriller, dtype: int64\n",
      "War:  0    668\n",
      "1      6\n",
      "Name: War, dtype: int64\n",
      "Crime:  0    647\n",
      "1     27\n",
      "Name: Crime, dtype: int64\n",
      "Romance:  0    605\n",
      "1     69\n",
      "Name: Romance, dtype: int64\n",
      "Horror:  0    538\n",
      "1    136\n",
      "Name: Horror, dtype: int64\n",
      "Western:  0    670\n",
      "1      4\n",
      "Name: Western, dtype: int64\n",
      "Biography:  0    674\n",
      "Name: Biography, dtype: int64\n"
     ]
    }
   ],
   "source": [
    "print('action: ',movies_df.Action.value_counts()) #633\n",
    "print('adventure: ',movies_df.Adventure.value_counts()) #486\n",
    "print('drama: ',movies_df.Drama.value_counts()) #398\n",
    "print('Fantasy: ',movies_df.Fantasy.value_counts())#260\n",
    "print('Animation: ',movies_df.Animation.value_counts())\n",
    "print('Comedy: ',movies_df.Comedy.value_counts()) #355\n",
    "print('Family: ',movies_df.Family.value_counts())\n",
    "print('Mystery: ',movies_df.Mystery.value_counts())\n",
    "print('Thriller: ',movies_df.Thriller.value_counts()) #514\n",
    "print('War: ',movies_df.War.value_counts())\n",
    "print('Crime: ',movies_df.Crime.value_counts())\n",
    "print('Romance: ',movies_df.Romance.value_counts())\n",
    "print('Horror: ',movies_df.Horror.value_counts())#341\n",
    "print('Western: ',movies_df.Western.value_counts())\n",
    "print('Biography: ',movies_df.Biography.value_counts())\n",
    "#keeping horror, thriller, comedy, drama, adventure, and action"
   ]
  },
  {
   "cell_type": "code",
   "execution_count": 312,
   "id": "congressional-restriction",
   "metadata": {},
   "outputs": [],
   "source": [
    "#keeping action,adventure,drama,&thriller\n",
    "movies_df=movies_df.drop(['Fantasy','Animation','Family','Mystery',\n",
    "                'War','Crime','Romance','Western','Biography'],axis=1)"
   ]
  },
  {
   "cell_type": "code",
   "execution_count": 313,
   "id": "suited-death",
   "metadata": {},
   "outputs": [],
   "source": [
    "#movies_df=movies_df.drop(['Approved','Unrated','Passed','NA'],axis=1)"
   ]
  },
  {
   "cell_type": "code",
   "execution_count": 314,
   "id": "opposite-chemistry",
   "metadata": {},
   "outputs": [
    {
     "data": {
      "text/plain": [
       "\"print('PG13: ',movies_df.PG13.value_counts())\\nprint('PG: ',movies_df.PG.value_counts())\\nprint('R: ',movies_df.R.value_counts())\\nprint('G: ',movies_df.G.value_counts())\\nprint('Approved: ',movies_df.Approved.value_counts()) \\nprint('Unrated: ',movies_df.Unrated.value_counts())\\nprint('M: ',movies_df.M.value_counts())\\nprint('Passed: ',movies_df.Passed.value_counts())\\nprint('MA: ',movies_df.MA.value_counts())\\nprint('GP: ',movies_df.GP.value_counts())\\nprint('NA: ',movies_df.NA.value_counts())\\nprint('TVY7: ',movies_df.TVY7.value_counts())\\nprint('TV14: ',movies_df.TV14.value_counts())\""
      ]
     },
     "execution_count": 314,
     "metadata": {},
     "output_type": "execute_result"
    }
   ],
   "source": [
    "'''print('PG13: ',movies_df.PG13.value_counts())\n",
    "print('PG: ',movies_df.PG.value_counts())\n",
    "print('R: ',movies_df.R.value_counts())\n",
    "print('G: ',movies_df.G.value_counts())\n",
    "print('Approved: ',movies_df.Approved.value_counts()) \n",
    "print('Unrated: ',movies_df.Unrated.value_counts())\n",
    "print('M: ',movies_df.M.value_counts())\n",
    "print('Passed: ',movies_df.Passed.value_counts())\n",
    "print('MA: ',movies_df.MA.value_counts())\n",
    "print('GP: ',movies_df.GP.value_counts())\n",
    "print('NA: ',movies_df.NA.value_counts())\n",
    "print('TVY7: ',movies_df.TVY7.value_counts())\n",
    "print('TV14: ',movies_df.TV14.value_counts())'''"
   ]
  },
  {
   "cell_type": "code",
   "execution_count": 315,
   "id": "exceptional-intake",
   "metadata": {},
   "outputs": [
    {
     "data": {
      "text/html": [
       "<div>\n",
       "<style scoped>\n",
       "    .dataframe tbody tr th:only-of-type {\n",
       "        vertical-align: middle;\n",
       "    }\n",
       "\n",
       "    .dataframe tbody tr th {\n",
       "        vertical-align: top;\n",
       "    }\n",
       "\n",
       "    .dataframe thead th {\n",
       "        text-align: right;\n",
       "    }\n",
       "</style>\n",
       "<table border=\"1\" class=\"dataframe\">\n",
       "  <thead>\n",
       "    <tr style=\"text-align: right;\">\n",
       "      <th></th>\n",
       "      <th>Title</th>\n",
       "      <th>Revenue</th>\n",
       "      <th>Runtime</th>\n",
       "      <th>Actor_Rankings</th>\n",
       "      <th>PG13</th>\n",
       "      <th>PG</th>\n",
       "      <th>R</th>\n",
       "      <th>G</th>\n",
       "      <th>Approved</th>\n",
       "      <th>Unrated</th>\n",
       "      <th>...</th>\n",
       "      <th>Action</th>\n",
       "      <th>Adventure</th>\n",
       "      <th>Drama</th>\n",
       "      <th>Comedy</th>\n",
       "      <th>Thriller</th>\n",
       "      <th>Horror</th>\n",
       "      <th>Holiday_Season</th>\n",
       "      <th>Trope_Count</th>\n",
       "      <th>Domestic</th>\n",
       "      <th>Director_Rankings</th>\n",
       "    </tr>\n",
       "  </thead>\n",
       "  <tbody>\n",
       "    <tr>\n",
       "      <th>0</th>\n",
       "      <td>Star Wars: Episode VII - The Force Awakens</td>\n",
       "      <td>2068455677</td>\n",
       "      <td>138.0</td>\n",
       "      <td>4</td>\n",
       "      <td>1</td>\n",
       "      <td>0</td>\n",
       "      <td>0</td>\n",
       "      <td>0</td>\n",
       "      <td>0</td>\n",
       "      <td>0</td>\n",
       "      <td>...</td>\n",
       "      <td>1</td>\n",
       "      <td>1</td>\n",
       "      <td>0</td>\n",
       "      <td>0</td>\n",
       "      <td>0</td>\n",
       "      <td>0</td>\n",
       "      <td>1</td>\n",
       "      <td>9</td>\n",
       "      <td>936662225</td>\n",
       "      <td>1</td>\n",
       "    </tr>\n",
       "    <tr>\n",
       "      <th>1</th>\n",
       "      <td>Avengers: Endgame</td>\n",
       "      <td>2797501328</td>\n",
       "      <td>181.0</td>\n",
       "      <td>3</td>\n",
       "      <td>1</td>\n",
       "      <td>0</td>\n",
       "      <td>0</td>\n",
       "      <td>0</td>\n",
       "      <td>0</td>\n",
       "      <td>0</td>\n",
       "      <td>...</td>\n",
       "      <td>1</td>\n",
       "      <td>1</td>\n",
       "      <td>1</td>\n",
       "      <td>0</td>\n",
       "      <td>0</td>\n",
       "      <td>0</td>\n",
       "      <td>0</td>\n",
       "      <td>17</td>\n",
       "      <td>858373000</td>\n",
       "      <td>1</td>\n",
       "    </tr>\n",
       "    <tr>\n",
       "      <th>2</th>\n",
       "      <td>Avatar</td>\n",
       "      <td>2847246203</td>\n",
       "      <td>162.0</td>\n",
       "      <td>4</td>\n",
       "      <td>1</td>\n",
       "      <td>0</td>\n",
       "      <td>0</td>\n",
       "      <td>0</td>\n",
       "      <td>0</td>\n",
       "      <td>0</td>\n",
       "      <td>...</td>\n",
       "      <td>1</td>\n",
       "      <td>1</td>\n",
       "      <td>0</td>\n",
       "      <td>0</td>\n",
       "      <td>0</td>\n",
       "      <td>0</td>\n",
       "      <td>1</td>\n",
       "      <td>11</td>\n",
       "      <td>760507625</td>\n",
       "      <td>1</td>\n",
       "    </tr>\n",
       "    <tr>\n",
       "      <th>3</th>\n",
       "      <td>Black Panther</td>\n",
       "      <td>1347597973</td>\n",
       "      <td>134.0</td>\n",
       "      <td>3</td>\n",
       "      <td>1</td>\n",
       "      <td>0</td>\n",
       "      <td>0</td>\n",
       "      <td>0</td>\n",
       "      <td>0</td>\n",
       "      <td>0</td>\n",
       "      <td>...</td>\n",
       "      <td>1</td>\n",
       "      <td>1</td>\n",
       "      <td>0</td>\n",
       "      <td>0</td>\n",
       "      <td>0</td>\n",
       "      <td>0</td>\n",
       "      <td>0</td>\n",
       "      <td>9</td>\n",
       "      <td>700426566</td>\n",
       "      <td>1</td>\n",
       "    </tr>\n",
       "    <tr>\n",
       "      <th>5</th>\n",
       "      <td>Jurassic World</td>\n",
       "      <td>1670516444</td>\n",
       "      <td>124.0</td>\n",
       "      <td>4</td>\n",
       "      <td>1</td>\n",
       "      <td>0</td>\n",
       "      <td>0</td>\n",
       "      <td>0</td>\n",
       "      <td>0</td>\n",
       "      <td>0</td>\n",
       "      <td>...</td>\n",
       "      <td>1</td>\n",
       "      <td>1</td>\n",
       "      <td>0</td>\n",
       "      <td>0</td>\n",
       "      <td>0</td>\n",
       "      <td>0</td>\n",
       "      <td>0</td>\n",
       "      <td>7</td>\n",
       "      <td>652385625</td>\n",
       "      <td>1</td>\n",
       "    </tr>\n",
       "  </tbody>\n",
       "</table>\n",
       "<p>5 rows × 24 columns</p>\n",
       "</div>"
      ],
      "text/plain": [
       "                                        Title     Revenue  Runtime  \\\n",
       "0  Star Wars: Episode VII - The Force Awakens  2068455677    138.0   \n",
       "1                           Avengers: Endgame  2797501328    181.0   \n",
       "2                                      Avatar  2847246203    162.0   \n",
       "3                               Black Panther  1347597973    134.0   \n",
       "5                              Jurassic World  1670516444    124.0   \n",
       "\n",
       "   Actor_Rankings  PG13  PG  R  G  Approved  Unrated  ...  Action  Adventure  \\\n",
       "0               4     1   0  0  0         0        0  ...       1          1   \n",
       "1               3     1   0  0  0         0        0  ...       1          1   \n",
       "2               4     1   0  0  0         0        0  ...       1          1   \n",
       "3               3     1   0  0  0         0        0  ...       1          1   \n",
       "5               4     1   0  0  0         0        0  ...       1          1   \n",
       "\n",
       "   Drama  Comedy  Thriller  Horror  Holiday_Season  Trope_Count   Domestic  \\\n",
       "0      0       0         0       0               1            9  936662225   \n",
       "1      1       0         0       0               0           17  858373000   \n",
       "2      0       0         0       0               1           11  760507625   \n",
       "3      0       0         0       0               0            9  700426566   \n",
       "5      0       0         0       0               0            7  652385625   \n",
       "\n",
       "   Director_Rankings  \n",
       "0                  1  \n",
       "1                  1  \n",
       "2                  1  \n",
       "3                  1  \n",
       "5                  1  \n",
       "\n",
       "[5 rows x 24 columns]"
      ]
     },
     "execution_count": 315,
     "metadata": {},
     "output_type": "execute_result"
    }
   ],
   "source": [
    "movies_df.head()"
   ]
  },
  {
   "cell_type": "code",
   "execution_count": 316,
   "id": "vietnamese-rainbow",
   "metadata": {},
   "outputs": [
    {
     "data": {
      "text/html": [
       "<div>\n",
       "<style scoped>\n",
       "    .dataframe tbody tr th:only-of-type {\n",
       "        vertical-align: middle;\n",
       "    }\n",
       "\n",
       "    .dataframe tbody tr th {\n",
       "        vertical-align: top;\n",
       "    }\n",
       "\n",
       "    .dataframe thead th {\n",
       "        text-align: right;\n",
       "    }\n",
       "</style>\n",
       "<table border=\"1\" class=\"dataframe\">\n",
       "  <thead>\n",
       "    <tr style=\"text-align: right;\">\n",
       "      <th></th>\n",
       "      <th>Revenue</th>\n",
       "      <th>Runtime</th>\n",
       "      <th>Actor_Rankings</th>\n",
       "      <th>PG13</th>\n",
       "      <th>PG</th>\n",
       "      <th>R</th>\n",
       "      <th>G</th>\n",
       "      <th>Approved</th>\n",
       "      <th>Unrated</th>\n",
       "      <th>M</th>\n",
       "      <th>...</th>\n",
       "      <th>Action</th>\n",
       "      <th>Adventure</th>\n",
       "      <th>Drama</th>\n",
       "      <th>Comedy</th>\n",
       "      <th>Thriller</th>\n",
       "      <th>Horror</th>\n",
       "      <th>Holiday_Season</th>\n",
       "      <th>Trope_Count</th>\n",
       "      <th>Domestic</th>\n",
       "      <th>Director_Rankings</th>\n",
       "    </tr>\n",
       "  </thead>\n",
       "  <tbody>\n",
       "    <tr>\n",
       "      <th>Revenue</th>\n",
       "      <td>1.000000</td>\n",
       "      <td>0.493819</td>\n",
       "      <td>0.525328</td>\n",
       "      <td>0.350606</td>\n",
       "      <td>-0.020092</td>\n",
       "      <td>-0.226784</td>\n",
       "      <td>-0.028779</td>\n",
       "      <td>-0.044606</td>\n",
       "      <td>-0.134241</td>\n",
       "      <td>-0.000793</td>\n",
       "      <td>...</td>\n",
       "      <td>0.294437</td>\n",
       "      <td>0.374920</td>\n",
       "      <td>-0.230858</td>\n",
       "      <td>-0.075300</td>\n",
       "      <td>-0.200096</td>\n",
       "      <td>-0.198617</td>\n",
       "      <td>0.091820</td>\n",
       "      <td>0.360536</td>\n",
       "      <td>0.954698</td>\n",
       "      <td>0.522549</td>\n",
       "    </tr>\n",
       "    <tr>\n",
       "      <th>Runtime</th>\n",
       "      <td>0.493819</td>\n",
       "      <td>1.000000</td>\n",
       "      <td>0.352654</td>\n",
       "      <td>0.255540</td>\n",
       "      <td>-0.182544</td>\n",
       "      <td>-0.029647</td>\n",
       "      <td>-0.069650</td>\n",
       "      <td>-0.011366</td>\n",
       "      <td>-0.084047</td>\n",
       "      <td>0.010690</td>\n",
       "      <td>...</td>\n",
       "      <td>0.212912</td>\n",
       "      <td>0.120835</td>\n",
       "      <td>0.068561</td>\n",
       "      <td>-0.281503</td>\n",
       "      <td>-0.043088</td>\n",
       "      <td>-0.206423</td>\n",
       "      <td>0.026095</td>\n",
       "      <td>0.357314</td>\n",
       "      <td>0.468823</td>\n",
       "      <td>0.364643</td>\n",
       "    </tr>\n",
       "    <tr>\n",
       "      <th>Actor_Rankings</th>\n",
       "      <td>0.525328</td>\n",
       "      <td>0.352654</td>\n",
       "      <td>1.000000</td>\n",
       "      <td>0.304353</td>\n",
       "      <td>-0.036015</td>\n",
       "      <td>-0.118803</td>\n",
       "      <td>-0.064277</td>\n",
       "      <td>0.015234</td>\n",
       "      <td>-0.186351</td>\n",
       "      <td>-0.047373</td>\n",
       "      <td>...</td>\n",
       "      <td>0.157811</td>\n",
       "      <td>0.180625</td>\n",
       "      <td>-0.117066</td>\n",
       "      <td>-0.030742</td>\n",
       "      <td>-0.040548</td>\n",
       "      <td>-0.248351</td>\n",
       "      <td>-0.024091</td>\n",
       "      <td>0.248299</td>\n",
       "      <td>0.546488</td>\n",
       "      <td>0.404836</td>\n",
       "    </tr>\n",
       "    <tr>\n",
       "      <th>PG13</th>\n",
       "      <td>0.350606</td>\n",
       "      <td>0.255540</td>\n",
       "      <td>0.304353</td>\n",
       "      <td>1.000000</td>\n",
       "      <td>-0.377949</td>\n",
       "      <td>-0.517770</td>\n",
       "      <td>-0.132508</td>\n",
       "      <td>-0.061809</td>\n",
       "      <td>-0.195533</td>\n",
       "      <td>-0.061809</td>\n",
       "      <td>...</td>\n",
       "      <td>0.247496</td>\n",
       "      <td>0.135757</td>\n",
       "      <td>-0.125695</td>\n",
       "      <td>-0.154293</td>\n",
       "      <td>0.056393</td>\n",
       "      <td>-0.174830</td>\n",
       "      <td>-0.048911</td>\n",
       "      <td>0.183735</td>\n",
       "      <td>0.334940</td>\n",
       "      <td>0.309534</td>\n",
       "    </tr>\n",
       "    <tr>\n",
       "      <th>PG</th>\n",
       "      <td>-0.020092</td>\n",
       "      <td>-0.182544</td>\n",
       "      <td>-0.036015</td>\n",
       "      <td>-0.377949</td>\n",
       "      <td>1.000000</td>\n",
       "      <td>-0.305813</td>\n",
       "      <td>-0.054438</td>\n",
       "      <td>-0.036506</td>\n",
       "      <td>-0.115489</td>\n",
       "      <td>-0.036506</td>\n",
       "      <td>...</td>\n",
       "      <td>-0.031446</td>\n",
       "      <td>0.300925</td>\n",
       "      <td>-0.143377</td>\n",
       "      <td>0.349007</td>\n",
       "      <td>-0.217708</td>\n",
       "      <td>-0.151408</td>\n",
       "      <td>0.036139</td>\n",
       "      <td>-0.159198</td>\n",
       "      <td>0.022201</td>\n",
       "      <td>0.022445</td>\n",
       "    </tr>\n",
       "    <tr>\n",
       "      <th>R</th>\n",
       "      <td>-0.226784</td>\n",
       "      <td>-0.029647</td>\n",
       "      <td>-0.118803</td>\n",
       "      <td>-0.517770</td>\n",
       "      <td>-0.305813</td>\n",
       "      <td>1.000000</td>\n",
       "      <td>-0.107217</td>\n",
       "      <td>-0.050012</td>\n",
       "      <td>-0.158213</td>\n",
       "      <td>-0.050012</td>\n",
       "      <td>...</td>\n",
       "      <td>-0.098983</td>\n",
       "      <td>-0.313884</td>\n",
       "      <td>0.106120</td>\n",
       "      <td>-0.155055</td>\n",
       "      <td>0.149406</td>\n",
       "      <td>0.306720</td>\n",
       "      <td>0.007885</td>\n",
       "      <td>0.072484</td>\n",
       "      <td>-0.226716</td>\n",
       "      <td>-0.159189</td>\n",
       "    </tr>\n",
       "    <tr>\n",
       "      <th>G</th>\n",
       "      <td>-0.028779</td>\n",
       "      <td>-0.069650</td>\n",
       "      <td>-0.064277</td>\n",
       "      <td>-0.132508</td>\n",
       "      <td>-0.054438</td>\n",
       "      <td>-0.107217</td>\n",
       "      <td>1.000000</td>\n",
       "      <td>-0.012799</td>\n",
       "      <td>-0.040490</td>\n",
       "      <td>-0.012799</td>\n",
       "      <td>...</td>\n",
       "      <td>-0.110353</td>\n",
       "      <td>0.104603</td>\n",
       "      <td>-0.015156</td>\n",
       "      <td>0.050798</td>\n",
       "      <td>-0.101847</td>\n",
       "      <td>-0.060354</td>\n",
       "      <td>0.021082</td>\n",
       "      <td>-0.085756</td>\n",
       "      <td>-0.033240</td>\n",
       "      <td>-0.052391</td>\n",
       "    </tr>\n",
       "    <tr>\n",
       "      <th>Approved</th>\n",
       "      <td>-0.044606</td>\n",
       "      <td>-0.011366</td>\n",
       "      <td>0.015234</td>\n",
       "      <td>-0.061809</td>\n",
       "      <td>-0.036506</td>\n",
       "      <td>-0.050012</td>\n",
       "      <td>-0.012799</td>\n",
       "      <td>1.000000</td>\n",
       "      <td>-0.018887</td>\n",
       "      <td>-0.005970</td>\n",
       "      <td>...</td>\n",
       "      <td>0.030554</td>\n",
       "      <td>-0.071732</td>\n",
       "      <td>0.112512</td>\n",
       "      <td>-0.045228</td>\n",
       "      <td>0.052718</td>\n",
       "      <td>-0.038848</td>\n",
       "      <td>0.050052</td>\n",
       "      <td>0.020414</td>\n",
       "      <td>-0.046445</td>\n",
       "      <td>-0.059898</td>\n",
       "    </tr>\n",
       "    <tr>\n",
       "      <th>Unrated</th>\n",
       "      <td>-0.134241</td>\n",
       "      <td>-0.084047</td>\n",
       "      <td>-0.186351</td>\n",
       "      <td>-0.195533</td>\n",
       "      <td>-0.115489</td>\n",
       "      <td>-0.158213</td>\n",
       "      <td>-0.040490</td>\n",
       "      <td>-0.018887</td>\n",
       "      <td>1.000000</td>\n",
       "      <td>-0.018887</td>\n",
       "      <td>...</td>\n",
       "      <td>-0.116835</td>\n",
       "      <td>-0.123723</td>\n",
       "      <td>0.162956</td>\n",
       "      <td>0.063484</td>\n",
       "      <td>-0.022593</td>\n",
       "      <td>-0.010701</td>\n",
       "      <td>0.001645</td>\n",
       "      <td>-0.099429</td>\n",
       "      <td>-0.146145</td>\n",
       "      <td>-0.176204</td>\n",
       "    </tr>\n",
       "    <tr>\n",
       "      <th>M</th>\n",
       "      <td>-0.000793</td>\n",
       "      <td>0.010690</td>\n",
       "      <td>-0.047373</td>\n",
       "      <td>-0.061809</td>\n",
       "      <td>-0.036506</td>\n",
       "      <td>-0.050012</td>\n",
       "      <td>-0.012799</td>\n",
       "      <td>-0.005970</td>\n",
       "      <td>-0.018887</td>\n",
       "      <td>1.000000</td>\n",
       "      <td>...</td>\n",
       "      <td>-0.008302</td>\n",
       "      <td>-0.032992</td>\n",
       "      <td>0.029725</td>\n",
       "      <td>-0.045228</td>\n",
       "      <td>-0.025719</td>\n",
       "      <td>0.009284</td>\n",
       "      <td>-0.022341</td>\n",
       "      <td>-0.050508</td>\n",
       "      <td>-0.045923</td>\n",
       "      <td>-0.059898</td>\n",
       "    </tr>\n",
       "    <tr>\n",
       "      <th>Passed</th>\n",
       "      <td>-0.031014</td>\n",
       "      <td>-0.017665</td>\n",
       "      <td>-0.055550</td>\n",
       "      <td>-0.043640</td>\n",
       "      <td>0.115466</td>\n",
       "      <td>-0.035311</td>\n",
       "      <td>-0.009037</td>\n",
       "      <td>-0.004215</td>\n",
       "      <td>-0.013335</td>\n",
       "      <td>-0.004215</td>\n",
       "      <td>...</td>\n",
       "      <td>-0.005861</td>\n",
       "      <td>-0.050647</td>\n",
       "      <td>0.020987</td>\n",
       "      <td>-0.031933</td>\n",
       "      <td>0.009531</td>\n",
       "      <td>-0.027429</td>\n",
       "      <td>0.086453</td>\n",
       "      <td>-0.002278</td>\n",
       "      <td>-0.032896</td>\n",
       "      <td>-0.042291</td>\n",
       "    </tr>\n",
       "    <tr>\n",
       "      <th>NA</th>\n",
       "      <td>-0.104572</td>\n",
       "      <td>-0.058865</td>\n",
       "      <td>-0.131797</td>\n",
       "      <td>-0.150359</td>\n",
       "      <td>-0.088808</td>\n",
       "      <td>-0.121661</td>\n",
       "      <td>-0.031136</td>\n",
       "      <td>-0.014523</td>\n",
       "      <td>-0.045945</td>\n",
       "      <td>-0.014523</td>\n",
       "      <td>...</td>\n",
       "      <td>-0.110608</td>\n",
       "      <td>-0.076162</td>\n",
       "      <td>0.116091</td>\n",
       "      <td>-0.035043</td>\n",
       "      <td>0.057728</td>\n",
       "      <td>0.088764</td>\n",
       "      <td>0.006907</td>\n",
       "      <td>-0.121202</td>\n",
       "      <td>-0.113339</td>\n",
       "      <td>-0.145711</td>\n",
       "    </tr>\n",
       "    <tr>\n",
       "      <th>Budget</th>\n",
       "      <td>0.000785</td>\n",
       "      <td>-0.039910</td>\n",
       "      <td>0.069061</td>\n",
       "      <td>0.018805</td>\n",
       "      <td>0.162956</td>\n",
       "      <td>-0.079797</td>\n",
       "      <td>-0.047260</td>\n",
       "      <td>-0.022025</td>\n",
       "      <td>-0.065232</td>\n",
       "      <td>-0.016137</td>\n",
       "      <td>...</td>\n",
       "      <td>-0.006242</td>\n",
       "      <td>0.025594</td>\n",
       "      <td>-0.088683</td>\n",
       "      <td>0.110863</td>\n",
       "      <td>0.051508</td>\n",
       "      <td>-0.056548</td>\n",
       "      <td>-0.067922</td>\n",
       "      <td>-0.047656</td>\n",
       "      <td>0.010504</td>\n",
       "      <td>0.071007</td>\n",
       "    </tr>\n",
       "    <tr>\n",
       "      <th>Action</th>\n",
       "      <td>0.294437</td>\n",
       "      <td>0.212912</td>\n",
       "      <td>0.157811</td>\n",
       "      <td>0.247496</td>\n",
       "      <td>-0.031446</td>\n",
       "      <td>-0.098983</td>\n",
       "      <td>-0.110353</td>\n",
       "      <td>0.030554</td>\n",
       "      <td>-0.116835</td>\n",
       "      <td>-0.008302</td>\n",
       "      <td>...</td>\n",
       "      <td>1.000000</td>\n",
       "      <td>0.409012</td>\n",
       "      <td>-0.419131</td>\n",
       "      <td>-0.192954</td>\n",
       "      <td>0.009682</td>\n",
       "      <td>-0.158128</td>\n",
       "      <td>-0.031065</td>\n",
       "      <td>0.417376</td>\n",
       "      <td>0.286757</td>\n",
       "      <td>0.246454</td>\n",
       "    </tr>\n",
       "    <tr>\n",
       "      <th>Adventure</th>\n",
       "      <td>0.374920</td>\n",
       "      <td>0.120835</td>\n",
       "      <td>0.180625</td>\n",
       "      <td>0.135757</td>\n",
       "      <td>0.300925</td>\n",
       "      <td>-0.313884</td>\n",
       "      <td>0.104603</td>\n",
       "      <td>-0.071732</td>\n",
       "      <td>-0.123723</td>\n",
       "      <td>-0.032992</td>\n",
       "      <td>...</td>\n",
       "      <td>0.409012</td>\n",
       "      <td>1.000000</td>\n",
       "      <td>-0.395255</td>\n",
       "      <td>0.084494</td>\n",
       "      <td>-0.206317</td>\n",
       "      <td>-0.244341</td>\n",
       "      <td>-0.000794</td>\n",
       "      <td>0.224639</td>\n",
       "      <td>0.373392</td>\n",
       "      <td>0.275817</td>\n",
       "    </tr>\n",
       "    <tr>\n",
       "      <th>Drama</th>\n",
       "      <td>-0.230858</td>\n",
       "      <td>0.068561</td>\n",
       "      <td>-0.117066</td>\n",
       "      <td>-0.125695</td>\n",
       "      <td>-0.143377</td>\n",
       "      <td>0.106120</td>\n",
       "      <td>-0.015156</td>\n",
       "      <td>0.112512</td>\n",
       "      <td>0.162956</td>\n",
       "      <td>0.029725</td>\n",
       "      <td>...</td>\n",
       "      <td>-0.419131</td>\n",
       "      <td>-0.395255</td>\n",
       "      <td>1.000000</td>\n",
       "      <td>-0.146740</td>\n",
       "      <td>0.139349</td>\n",
       "      <td>-0.036319</td>\n",
       "      <td>0.003995</td>\n",
       "      <td>-0.212857</td>\n",
       "      <td>-0.244534</td>\n",
       "      <td>-0.217203</td>\n",
       "    </tr>\n",
       "    <tr>\n",
       "      <th>Comedy</th>\n",
       "      <td>-0.075300</td>\n",
       "      <td>-0.281503</td>\n",
       "      <td>-0.030742</td>\n",
       "      <td>-0.154293</td>\n",
       "      <td>0.349007</td>\n",
       "      <td>-0.155055</td>\n",
       "      <td>0.050798</td>\n",
       "      <td>-0.045228</td>\n",
       "      <td>0.063484</td>\n",
       "      <td>-0.045228</td>\n",
       "      <td>...</td>\n",
       "      <td>-0.192954</td>\n",
       "      <td>0.084494</td>\n",
       "      <td>-0.146740</td>\n",
       "      <td>1.000000</td>\n",
       "      <td>-0.360665</td>\n",
       "      <td>-0.116225</td>\n",
       "      <td>0.009310</td>\n",
       "      <td>-0.253519</td>\n",
       "      <td>-0.062855</td>\n",
       "      <td>-0.018019</td>\n",
       "    </tr>\n",
       "    <tr>\n",
       "      <th>Thriller</th>\n",
       "      <td>-0.200096</td>\n",
       "      <td>-0.043088</td>\n",
       "      <td>-0.040548</td>\n",
       "      <td>0.056393</td>\n",
       "      <td>-0.217708</td>\n",
       "      <td>0.149406</td>\n",
       "      <td>-0.101847</td>\n",
       "      <td>0.052718</td>\n",
       "      <td>-0.022593</td>\n",
       "      <td>-0.025719</td>\n",
       "      <td>...</td>\n",
       "      <td>0.009682</td>\n",
       "      <td>-0.206317</td>\n",
       "      <td>0.139349</td>\n",
       "      <td>-0.360665</td>\n",
       "      <td>1.000000</td>\n",
       "      <td>0.170407</td>\n",
       "      <td>-0.096243</td>\n",
       "      <td>-0.011751</td>\n",
       "      <td>-0.197164</td>\n",
       "      <td>-0.091625</td>\n",
       "    </tr>\n",
       "    <tr>\n",
       "      <th>Horror</th>\n",
       "      <td>-0.198617</td>\n",
       "      <td>-0.206423</td>\n",
       "      <td>-0.248351</td>\n",
       "      <td>-0.174830</td>\n",
       "      <td>-0.151408</td>\n",
       "      <td>0.306720</td>\n",
       "      <td>-0.060354</td>\n",
       "      <td>-0.038848</td>\n",
       "      <td>-0.010701</td>\n",
       "      <td>0.009284</td>\n",
       "      <td>...</td>\n",
       "      <td>-0.158128</td>\n",
       "      <td>-0.244341</td>\n",
       "      <td>-0.036319</td>\n",
       "      <td>-0.116225</td>\n",
       "      <td>0.170407</td>\n",
       "      <td>1.000000</td>\n",
       "      <td>0.020885</td>\n",
       "      <td>-0.054177</td>\n",
       "      <td>-0.198648</td>\n",
       "      <td>-0.183620</td>\n",
       "    </tr>\n",
       "    <tr>\n",
       "      <th>Holiday_Season</th>\n",
       "      <td>0.091820</td>\n",
       "      <td>0.026095</td>\n",
       "      <td>-0.024091</td>\n",
       "      <td>-0.048911</td>\n",
       "      <td>0.036139</td>\n",
       "      <td>0.007885</td>\n",
       "      <td>0.021082</td>\n",
       "      <td>0.050052</td>\n",
       "      <td>0.001645</td>\n",
       "      <td>-0.022341</td>\n",
       "      <td>...</td>\n",
       "      <td>-0.031065</td>\n",
       "      <td>-0.000794</td>\n",
       "      <td>0.003995</td>\n",
       "      <td>0.009310</td>\n",
       "      <td>-0.096243</td>\n",
       "      <td>0.020885</td>\n",
       "      <td>1.000000</td>\n",
       "      <td>0.083195</td>\n",
       "      <td>0.092399</td>\n",
       "      <td>-0.017446</td>\n",
       "    </tr>\n",
       "    <tr>\n",
       "      <th>Trope_Count</th>\n",
       "      <td>0.360536</td>\n",
       "      <td>0.357314</td>\n",
       "      <td>0.248299</td>\n",
       "      <td>0.183735</td>\n",
       "      <td>-0.159198</td>\n",
       "      <td>0.072484</td>\n",
       "      <td>-0.085756</td>\n",
       "      <td>0.020414</td>\n",
       "      <td>-0.099429</td>\n",
       "      <td>-0.050508</td>\n",
       "      <td>...</td>\n",
       "      <td>0.417376</td>\n",
       "      <td>0.224639</td>\n",
       "      <td>-0.212857</td>\n",
       "      <td>-0.253519</td>\n",
       "      <td>-0.011751</td>\n",
       "      <td>-0.054177</td>\n",
       "      <td>0.083195</td>\n",
       "      <td>1.000000</td>\n",
       "      <td>0.331830</td>\n",
       "      <td>0.270121</td>\n",
       "    </tr>\n",
       "    <tr>\n",
       "      <th>Domestic</th>\n",
       "      <td>0.954698</td>\n",
       "      <td>0.468823</td>\n",
       "      <td>0.546488</td>\n",
       "      <td>0.334940</td>\n",
       "      <td>0.022201</td>\n",
       "      <td>-0.226716</td>\n",
       "      <td>-0.033240</td>\n",
       "      <td>-0.046445</td>\n",
       "      <td>-0.146145</td>\n",
       "      <td>-0.045923</td>\n",
       "      <td>...</td>\n",
       "      <td>0.286757</td>\n",
       "      <td>0.373392</td>\n",
       "      <td>-0.244534</td>\n",
       "      <td>-0.062855</td>\n",
       "      <td>-0.197164</td>\n",
       "      <td>-0.198648</td>\n",
       "      <td>0.092399</td>\n",
       "      <td>0.331830</td>\n",
       "      <td>1.000000</td>\n",
       "      <td>0.530682</td>\n",
       "    </tr>\n",
       "    <tr>\n",
       "      <th>Director_Rankings</th>\n",
       "      <td>0.522549</td>\n",
       "      <td>0.364643</td>\n",
       "      <td>0.404836</td>\n",
       "      <td>0.309534</td>\n",
       "      <td>0.022445</td>\n",
       "      <td>-0.159189</td>\n",
       "      <td>-0.052391</td>\n",
       "      <td>-0.059898</td>\n",
       "      <td>-0.176204</td>\n",
       "      <td>-0.059898</td>\n",
       "      <td>...</td>\n",
       "      <td>0.246454</td>\n",
       "      <td>0.275817</td>\n",
       "      <td>-0.217203</td>\n",
       "      <td>-0.018019</td>\n",
       "      <td>-0.091625</td>\n",
       "      <td>-0.183620</td>\n",
       "      <td>-0.017446</td>\n",
       "      <td>0.270121</td>\n",
       "      <td>0.530682</td>\n",
       "      <td>1.000000</td>\n",
       "    </tr>\n",
       "  </tbody>\n",
       "</table>\n",
       "<p>23 rows × 23 columns</p>\n",
       "</div>"
      ],
      "text/plain": [
       "                    Revenue   Runtime  Actor_Rankings      PG13        PG  \\\n",
       "Revenue            1.000000  0.493819        0.525328  0.350606 -0.020092   \n",
       "Runtime            0.493819  1.000000        0.352654  0.255540 -0.182544   \n",
       "Actor_Rankings     0.525328  0.352654        1.000000  0.304353 -0.036015   \n",
       "PG13               0.350606  0.255540        0.304353  1.000000 -0.377949   \n",
       "PG                -0.020092 -0.182544       -0.036015 -0.377949  1.000000   \n",
       "R                 -0.226784 -0.029647       -0.118803 -0.517770 -0.305813   \n",
       "G                 -0.028779 -0.069650       -0.064277 -0.132508 -0.054438   \n",
       "Approved          -0.044606 -0.011366        0.015234 -0.061809 -0.036506   \n",
       "Unrated           -0.134241 -0.084047       -0.186351 -0.195533 -0.115489   \n",
       "M                 -0.000793  0.010690       -0.047373 -0.061809 -0.036506   \n",
       "Passed            -0.031014 -0.017665       -0.055550 -0.043640  0.115466   \n",
       "NA                -0.104572 -0.058865       -0.131797 -0.150359 -0.088808   \n",
       "Budget             0.000785 -0.039910        0.069061  0.018805  0.162956   \n",
       "Action             0.294437  0.212912        0.157811  0.247496 -0.031446   \n",
       "Adventure          0.374920  0.120835        0.180625  0.135757  0.300925   \n",
       "Drama             -0.230858  0.068561       -0.117066 -0.125695 -0.143377   \n",
       "Comedy            -0.075300 -0.281503       -0.030742 -0.154293  0.349007   \n",
       "Thriller          -0.200096 -0.043088       -0.040548  0.056393 -0.217708   \n",
       "Horror            -0.198617 -0.206423       -0.248351 -0.174830 -0.151408   \n",
       "Holiday_Season     0.091820  0.026095       -0.024091 -0.048911  0.036139   \n",
       "Trope_Count        0.360536  0.357314        0.248299  0.183735 -0.159198   \n",
       "Domestic           0.954698  0.468823        0.546488  0.334940  0.022201   \n",
       "Director_Rankings  0.522549  0.364643        0.404836  0.309534  0.022445   \n",
       "\n",
       "                          R         G  Approved   Unrated         M  ...  \\\n",
       "Revenue           -0.226784 -0.028779 -0.044606 -0.134241 -0.000793  ...   \n",
       "Runtime           -0.029647 -0.069650 -0.011366 -0.084047  0.010690  ...   \n",
       "Actor_Rankings    -0.118803 -0.064277  0.015234 -0.186351 -0.047373  ...   \n",
       "PG13              -0.517770 -0.132508 -0.061809 -0.195533 -0.061809  ...   \n",
       "PG                -0.305813 -0.054438 -0.036506 -0.115489 -0.036506  ...   \n",
       "R                  1.000000 -0.107217 -0.050012 -0.158213 -0.050012  ...   \n",
       "G                 -0.107217  1.000000 -0.012799 -0.040490 -0.012799  ...   \n",
       "Approved          -0.050012 -0.012799  1.000000 -0.018887 -0.005970  ...   \n",
       "Unrated           -0.158213 -0.040490 -0.018887  1.000000 -0.018887  ...   \n",
       "M                 -0.050012 -0.012799 -0.005970 -0.018887  1.000000  ...   \n",
       "Passed            -0.035311 -0.009037 -0.004215 -0.013335 -0.004215  ...   \n",
       "NA                -0.121661 -0.031136 -0.014523 -0.045945 -0.014523  ...   \n",
       "Budget            -0.079797 -0.047260 -0.022025 -0.065232 -0.016137  ...   \n",
       "Action            -0.098983 -0.110353  0.030554 -0.116835 -0.008302  ...   \n",
       "Adventure         -0.313884  0.104603 -0.071732 -0.123723 -0.032992  ...   \n",
       "Drama              0.106120 -0.015156  0.112512  0.162956  0.029725  ...   \n",
       "Comedy            -0.155055  0.050798 -0.045228  0.063484 -0.045228  ...   \n",
       "Thriller           0.149406 -0.101847  0.052718 -0.022593 -0.025719  ...   \n",
       "Horror             0.306720 -0.060354 -0.038848 -0.010701  0.009284  ...   \n",
       "Holiday_Season     0.007885  0.021082  0.050052  0.001645 -0.022341  ...   \n",
       "Trope_Count        0.072484 -0.085756  0.020414 -0.099429 -0.050508  ...   \n",
       "Domestic          -0.226716 -0.033240 -0.046445 -0.146145 -0.045923  ...   \n",
       "Director_Rankings -0.159189 -0.052391 -0.059898 -0.176204 -0.059898  ...   \n",
       "\n",
       "                     Action  Adventure     Drama    Comedy  Thriller  \\\n",
       "Revenue            0.294437   0.374920 -0.230858 -0.075300 -0.200096   \n",
       "Runtime            0.212912   0.120835  0.068561 -0.281503 -0.043088   \n",
       "Actor_Rankings     0.157811   0.180625 -0.117066 -0.030742 -0.040548   \n",
       "PG13               0.247496   0.135757 -0.125695 -0.154293  0.056393   \n",
       "PG                -0.031446   0.300925 -0.143377  0.349007 -0.217708   \n",
       "R                 -0.098983  -0.313884  0.106120 -0.155055  0.149406   \n",
       "G                 -0.110353   0.104603 -0.015156  0.050798 -0.101847   \n",
       "Approved           0.030554  -0.071732  0.112512 -0.045228  0.052718   \n",
       "Unrated           -0.116835  -0.123723  0.162956  0.063484 -0.022593   \n",
       "M                 -0.008302  -0.032992  0.029725 -0.045228 -0.025719   \n",
       "Passed            -0.005861  -0.050647  0.020987 -0.031933  0.009531   \n",
       "NA                -0.110608  -0.076162  0.116091 -0.035043  0.057728   \n",
       "Budget            -0.006242   0.025594 -0.088683  0.110863  0.051508   \n",
       "Action             1.000000   0.409012 -0.419131 -0.192954  0.009682   \n",
       "Adventure          0.409012   1.000000 -0.395255  0.084494 -0.206317   \n",
       "Drama             -0.419131  -0.395255  1.000000 -0.146740  0.139349   \n",
       "Comedy            -0.192954   0.084494 -0.146740  1.000000 -0.360665   \n",
       "Thriller           0.009682  -0.206317  0.139349 -0.360665  1.000000   \n",
       "Horror            -0.158128  -0.244341 -0.036319 -0.116225  0.170407   \n",
       "Holiday_Season    -0.031065  -0.000794  0.003995  0.009310 -0.096243   \n",
       "Trope_Count        0.417376   0.224639 -0.212857 -0.253519 -0.011751   \n",
       "Domestic           0.286757   0.373392 -0.244534 -0.062855 -0.197164   \n",
       "Director_Rankings  0.246454   0.275817 -0.217203 -0.018019 -0.091625   \n",
       "\n",
       "                     Horror  Holiday_Season  Trope_Count  Domestic  \\\n",
       "Revenue           -0.198617        0.091820     0.360536  0.954698   \n",
       "Runtime           -0.206423        0.026095     0.357314  0.468823   \n",
       "Actor_Rankings    -0.248351       -0.024091     0.248299  0.546488   \n",
       "PG13              -0.174830       -0.048911     0.183735  0.334940   \n",
       "PG                -0.151408        0.036139    -0.159198  0.022201   \n",
       "R                  0.306720        0.007885     0.072484 -0.226716   \n",
       "G                 -0.060354        0.021082    -0.085756 -0.033240   \n",
       "Approved          -0.038848        0.050052     0.020414 -0.046445   \n",
       "Unrated           -0.010701        0.001645    -0.099429 -0.146145   \n",
       "M                  0.009284       -0.022341    -0.050508 -0.045923   \n",
       "Passed            -0.027429        0.086453    -0.002278 -0.032896   \n",
       "NA                 0.088764        0.006907    -0.121202 -0.113339   \n",
       "Budget            -0.056548       -0.067922    -0.047656  0.010504   \n",
       "Action            -0.158128       -0.031065     0.417376  0.286757   \n",
       "Adventure         -0.244341       -0.000794     0.224639  0.373392   \n",
       "Drama             -0.036319        0.003995    -0.212857 -0.244534   \n",
       "Comedy            -0.116225        0.009310    -0.253519 -0.062855   \n",
       "Thriller           0.170407       -0.096243    -0.011751 -0.197164   \n",
       "Horror             1.000000        0.020885    -0.054177 -0.198648   \n",
       "Holiday_Season     0.020885        1.000000     0.083195  0.092399   \n",
       "Trope_Count       -0.054177        0.083195     1.000000  0.331830   \n",
       "Domestic          -0.198648        0.092399     0.331830  1.000000   \n",
       "Director_Rankings -0.183620       -0.017446     0.270121  0.530682   \n",
       "\n",
       "                   Director_Rankings  \n",
       "Revenue                     0.522549  \n",
       "Runtime                     0.364643  \n",
       "Actor_Rankings              0.404836  \n",
       "PG13                        0.309534  \n",
       "PG                          0.022445  \n",
       "R                          -0.159189  \n",
       "G                          -0.052391  \n",
       "Approved                   -0.059898  \n",
       "Unrated                    -0.176204  \n",
       "M                          -0.059898  \n",
       "Passed                     -0.042291  \n",
       "NA                         -0.145711  \n",
       "Budget                      0.071007  \n",
       "Action                      0.246454  \n",
       "Adventure                   0.275817  \n",
       "Drama                      -0.217203  \n",
       "Comedy                     -0.018019  \n",
       "Thriller                   -0.091625  \n",
       "Horror                     -0.183620  \n",
       "Holiday_Season             -0.017446  \n",
       "Trope_Count                 0.270121  \n",
       "Domestic                    0.530682  \n",
       "Director_Rankings           1.000000  \n",
       "\n",
       "[23 rows x 23 columns]"
      ]
     },
     "execution_count": 316,
     "metadata": {},
     "output_type": "execute_result"
    }
   ],
   "source": [
    "movies_df.corr()"
   ]
  },
  {
   "cell_type": "code",
   "execution_count": 317,
   "id": "minimal-american",
   "metadata": {},
   "outputs": [
    {
     "name": "stdout",
     "output_type": "stream",
     "text": [
      "<class 'pandas.core.frame.DataFrame'>\n",
      "Int64Index: 674 entries, 0 to 1649\n",
      "Data columns (total 24 columns):\n",
      " #   Column             Non-Null Count  Dtype  \n",
      "---  ------             --------------  -----  \n",
      " 0   Title              674 non-null    object \n",
      " 1   Revenue            674 non-null    int64  \n",
      " 2   Runtime            674 non-null    float64\n",
      " 3   Actor_Rankings     674 non-null    int64  \n",
      " 4   PG13               674 non-null    int64  \n",
      " 5   PG                 674 non-null    int64  \n",
      " 6   R                  674 non-null    int64  \n",
      " 7   G                  674 non-null    int64  \n",
      " 8   Approved           674 non-null    int64  \n",
      " 9   Unrated            674 non-null    int64  \n",
      " 10  M                  674 non-null    int64  \n",
      " 11  Passed             674 non-null    int64  \n",
      " 12  NA                 674 non-null    int64  \n",
      " 13  Budget             674 non-null    float64\n",
      " 14  Action             674 non-null    int64  \n",
      " 15  Adventure          674 non-null    int64  \n",
      " 16  Drama              674 non-null    int64  \n",
      " 17  Comedy             674 non-null    int64  \n",
      " 18  Thriller           674 non-null    int64  \n",
      " 19  Horror             674 non-null    int64  \n",
      " 20  Holiday_Season     674 non-null    int64  \n",
      " 21  Trope_Count        674 non-null    int64  \n",
      " 22  Domestic           674 non-null    int64  \n",
      " 23  Director_Rankings  674 non-null    int64  \n",
      "dtypes: float64(2), int64(21), object(1)\n",
      "memory usage: 131.6+ KB\n"
     ]
    }
   ],
   "source": [
    "movies_df.info()"
   ]
  },
  {
   "cell_type": "code",
   "execution_count": 318,
   "id": "republican-bachelor",
   "metadata": {},
   "outputs": [],
   "source": [
    "clean_df=movies_df.drop(['Title'],axis=1)"
   ]
  },
  {
   "cell_type": "code",
   "execution_count": 328,
   "id": "fleet-services",
   "metadata": {},
   "outputs": [],
   "source": [
    "clean_df2=clean_df.drop(['Horror','M','R','G','PG','Drama','Comedy','Thriller','Approved','Unrated','Passed','NA','Budget'],axis=1)"
   ]
  },
  {
   "cell_type": "code",
   "execution_count": 329,
   "id": "engaged-python",
   "metadata": {},
   "outputs": [
    {
     "data": {
      "text/html": [
       "<div>\n",
       "<style scoped>\n",
       "    .dataframe tbody tr th:only-of-type {\n",
       "        vertical-align: middle;\n",
       "    }\n",
       "\n",
       "    .dataframe tbody tr th {\n",
       "        vertical-align: top;\n",
       "    }\n",
       "\n",
       "    .dataframe thead th {\n",
       "        text-align: right;\n",
       "    }\n",
       "</style>\n",
       "<table border=\"1\" class=\"dataframe\">\n",
       "  <thead>\n",
       "    <tr style=\"text-align: right;\">\n",
       "      <th></th>\n",
       "      <th>Revenue</th>\n",
       "      <th>Runtime</th>\n",
       "      <th>Actor_Rankings</th>\n",
       "      <th>PG13</th>\n",
       "      <th>Action</th>\n",
       "      <th>Adventure</th>\n",
       "      <th>Holiday_Season</th>\n",
       "      <th>Trope_Count</th>\n",
       "      <th>Domestic</th>\n",
       "      <th>Director_Rankings</th>\n",
       "    </tr>\n",
       "  </thead>\n",
       "  <tbody>\n",
       "    <tr>\n",
       "      <th>0</th>\n",
       "      <td>2068455677</td>\n",
       "      <td>138.0</td>\n",
       "      <td>4</td>\n",
       "      <td>1</td>\n",
       "      <td>1</td>\n",
       "      <td>1</td>\n",
       "      <td>1</td>\n",
       "      <td>9</td>\n",
       "      <td>936662225</td>\n",
       "      <td>1</td>\n",
       "    </tr>\n",
       "    <tr>\n",
       "      <th>1</th>\n",
       "      <td>2797501328</td>\n",
       "      <td>181.0</td>\n",
       "      <td>3</td>\n",
       "      <td>1</td>\n",
       "      <td>1</td>\n",
       "      <td>1</td>\n",
       "      <td>0</td>\n",
       "      <td>17</td>\n",
       "      <td>858373000</td>\n",
       "      <td>1</td>\n",
       "    </tr>\n",
       "    <tr>\n",
       "      <th>2</th>\n",
       "      <td>2847246203</td>\n",
       "      <td>162.0</td>\n",
       "      <td>4</td>\n",
       "      <td>1</td>\n",
       "      <td>1</td>\n",
       "      <td>1</td>\n",
       "      <td>1</td>\n",
       "      <td>11</td>\n",
       "      <td>760507625</td>\n",
       "      <td>1</td>\n",
       "    </tr>\n",
       "    <tr>\n",
       "      <th>3</th>\n",
       "      <td>1347597973</td>\n",
       "      <td>134.0</td>\n",
       "      <td>3</td>\n",
       "      <td>1</td>\n",
       "      <td>1</td>\n",
       "      <td>1</td>\n",
       "      <td>0</td>\n",
       "      <td>9</td>\n",
       "      <td>700426566</td>\n",
       "      <td>1</td>\n",
       "    </tr>\n",
       "    <tr>\n",
       "      <th>5</th>\n",
       "      <td>1670516444</td>\n",
       "      <td>124.0</td>\n",
       "      <td>4</td>\n",
       "      <td>1</td>\n",
       "      <td>1</td>\n",
       "      <td>1</td>\n",
       "      <td>0</td>\n",
       "      <td>7</td>\n",
       "      <td>652385625</td>\n",
       "      <td>1</td>\n",
       "    </tr>\n",
       "  </tbody>\n",
       "</table>\n",
       "</div>"
      ],
      "text/plain": [
       "      Revenue  Runtime  Actor_Rankings  PG13  Action  Adventure  \\\n",
       "0  2068455677    138.0               4     1       1          1   \n",
       "1  2797501328    181.0               3     1       1          1   \n",
       "2  2847246203    162.0               4     1       1          1   \n",
       "3  1347597973    134.0               3     1       1          1   \n",
       "5  1670516444    124.0               4     1       1          1   \n",
       "\n",
       "   Holiday_Season  Trope_Count   Domestic  Director_Rankings  \n",
       "0               1            9  936662225                  1  \n",
       "1               0           17  858373000                  1  \n",
       "2               1           11  760507625                  1  \n",
       "3               0            9  700426566                  1  \n",
       "5               0            7  652385625                  1  "
      ]
     },
     "execution_count": 329,
     "metadata": {},
     "output_type": "execute_result"
    }
   ],
   "source": [
    "clean_df2.head()"
   ]
  },
  {
   "cell_type": "code",
   "execution_count": 343,
   "id": "olympic-saint",
   "metadata": {},
   "outputs": [
    {
     "data": {
      "image/png": "[encoded data removed]",
      "text/plain": [
       "<Figure size 432x288 with 2 Axes>"
      ]
     },
     "metadata": {},
     "output_type": "display_data"
    }
   ],
   "source": [
    "sns.heatmap(clean_df2.corr(), cmap='Blues', annot=False);"
   ]
  },
  {
   "cell_type": "code",
   "execution_count": 344,
   "id": "atomic-julian",
   "metadata": {},
   "outputs": [],
   "source": [
    "smaller=clean_df.drop(['Horror','M','R','G','PG','Drama','Comedy','Thriller','Approved','Action',\n",
    "                       'Domestic','Unrated','Passed','NA','Budget',\n",
    "                      'Holiday_Season'],axis=1)"
   ]
  },
  {
   "cell_type": "code",
   "execution_count": 345,
   "id": "mighty-batman",
   "metadata": {},
   "outputs": [
    {
     "data": {
      "image/png": "[encoded data removed]",
      "text/plain": [
       "<Figure size 432x288 with 2 Axes>"
      ]
     },
     "metadata": {},
     "output_type": "display_data"
    }
   ],
   "source": [
    "sns.heatmap(smaller.corr(), cmap='Blues', annot=True);"
   ]
  },
  {
   "cell_type": "code",
   "execution_count": 346,
   "id": "confirmed-yemen",
   "metadata": {},
   "outputs": [],
   "source": [
    "lr=LinearRegression()"
   ]
  },
  {
   "cell_type": "code",
   "execution_count": 347,
   "id": "bridal-microwave",
   "metadata": {},
   "outputs": [],
   "source": [
    "X=clean_df[['Runtime','Director_Rankings','Actor_Rankings','PG13','Holiday_Season','Adventure','Trope_Count']]\n",
    "y=clean_df['Domestic']"
   ]
  },
  {
   "cell_type": "code",
   "execution_count": 348,
   "id": "quantitative-outdoors",
   "metadata": {},
   "outputs": [],
   "source": [
    "fit=lr.fit(X, y)"
   ]
  },
  {
   "cell_type": "code",
   "execution_count": 349,
   "id": "amber-nursing",
   "metadata": {},
   "outputs": [
    {
     "data": {
      "text/plain": [
       "0.5201603616663861"
      ]
     },
     "execution_count": 349,
     "metadata": {},
     "output_type": "execute_result"
    }
   ],
   "source": [
    "lr.score(X,y)"
   ]
  },
  {
   "cell_type": "code",
   "execution_count": 350,
   "id": "increased-antigua",
   "metadata": {},
   "outputs": [
    {
     "data": {
      "text/html": [
       "<table class=\"simpletable\">\n",
       "<caption>OLS Regression Results</caption>\n",
       "<tr>\n",
       "  <th>Dep. Variable:</th>        <td>Domestic</td>     <th>  R-squared:         </th> <td>   0.520</td> \n",
       "</tr>\n",
       "<tr>\n",
       "  <th>Model:</th>                   <td>OLS</td>       <th>  Adj. R-squared:    </th> <td>   0.515</td> \n",
       "</tr>\n",
       "<tr>\n",
       "  <th>Method:</th>             <td>Least Squares</td>  <th>  F-statistic:       </th> <td>   103.1</td> \n",
       "</tr>\n",
       "<tr>\n",
       "  <th>Date:</th>             <td>Fri, 14 May 2021</td> <th>  Prob (F-statistic):</th> <td>7.74e-102</td>\n",
       "</tr>\n",
       "<tr>\n",
       "  <th>Time:</th>                 <td>02:07:32</td>     <th>  Log-Likelihood:    </th> <td> -13261.</td> \n",
       "</tr>\n",
       "<tr>\n",
       "  <th>No. Observations:</th>      <td>   674</td>      <th>  AIC:               </th> <td>2.654e+04</td>\n",
       "</tr>\n",
       "<tr>\n",
       "  <th>Df Residuals:</th>          <td>   666</td>      <th>  BIC:               </th> <td>2.657e+04</td>\n",
       "</tr>\n",
       "<tr>\n",
       "  <th>Df Model:</th>              <td>     7</td>      <th>                     </th>     <td> </td>    \n",
       "</tr>\n",
       "<tr>\n",
       "  <th>Covariance Type:</th>      <td>nonrobust</td>    <th>                     </th>     <td> </td>    \n",
       "</tr>\n",
       "</table>\n",
       "<table class=\"simpletable\">\n",
       "<tr>\n",
       "          <td></td>             <th>coef</th>     <th>std err</th>      <th>t</th>      <th>P>|t|</th>  <th>[0.025</th>    <th>0.975]</th>  \n",
       "</tr>\n",
       "<tr>\n",
       "  <th>const</th>             <td>-1.889e+08</td> <td> 2.08e+07</td> <td>   -9.070</td> <td> 0.000</td> <td> -2.3e+08</td> <td>-1.48e+08</td>\n",
       "</tr>\n",
       "<tr>\n",
       "  <th>Runtime</th>           <td> 1.391e+06</td> <td> 2.06e+05</td> <td>    6.752</td> <td> 0.000</td> <td> 9.87e+05</td> <td>  1.8e+06</td>\n",
       "</tr>\n",
       "<tr>\n",
       "  <th>Director_Rankings</th> <td> 6.003e+07</td> <td> 8.01e+06</td> <td>    7.492</td> <td> 0.000</td> <td> 4.43e+07</td> <td> 7.58e+07</td>\n",
       "</tr>\n",
       "<tr>\n",
       "  <th>Actor_Rankings</th>    <td> 3.022e+07</td> <td> 3.06e+06</td> <td>    9.865</td> <td> 0.000</td> <td> 2.42e+07</td> <td> 3.62e+07</td>\n",
       "</tr>\n",
       "<tr>\n",
       "  <th>PG13</th>              <td> 2.095e+07</td> <td> 7.31e+06</td> <td>    2.864</td> <td> 0.004</td> <td> 6.59e+06</td> <td> 3.53e+07</td>\n",
       "</tr>\n",
       "<tr>\n",
       "  <th>Holiday_Season</th>    <td> 4.529e+07</td> <td> 1.24e+07</td> <td>    3.654</td> <td> 0.000</td> <td>  2.1e+07</td> <td> 6.96e+07</td>\n",
       "</tr>\n",
       "<tr>\n",
       "  <th>Adventure</th>         <td>  5.05e+07</td> <td> 6.97e+06</td> <td>    7.248</td> <td> 0.000</td> <td> 3.68e+07</td> <td> 6.42e+07</td>\n",
       "</tr>\n",
       "<tr>\n",
       "  <th>Trope_Count</th>       <td> 2.378e+06</td> <td> 1.49e+06</td> <td>    1.599</td> <td> 0.110</td> <td>-5.42e+05</td> <td>  5.3e+06</td>\n",
       "</tr>\n",
       "</table>\n",
       "<table class=\"simpletable\">\n",
       "<tr>\n",
       "  <th>Omnibus:</th>       <td>354.085</td> <th>  Durbin-Watson:     </th> <td>   0.798</td>\n",
       "</tr>\n",
       "<tr>\n",
       "  <th>Prob(Omnibus):</th> <td> 0.000</td>  <th>  Jarque-Bera (JB):  </th> <td>3437.244</td>\n",
       "</tr>\n",
       "<tr>\n",
       "  <th>Skew:</th>          <td> 2.147</td>  <th>  Prob(JB):          </th> <td>    0.00</td>\n",
       "</tr>\n",
       "<tr>\n",
       "  <th>Kurtosis:</th>      <td>13.196</td>  <th>  Cond. No.          </th> <td>    702.</td>\n",
       "</tr>\n",
       "</table><br/><br/>Notes:<br/>[1] Standard Errors assume that the covariance matrix of the errors is correctly specified."
      ],
      "text/plain": [
       "<class 'statsmodels.iolib.summary.Summary'>\n",
       "\"\"\"\n",
       "                            OLS Regression Results                            \n",
       "==============================================================================\n",
       "Dep. Variable:               Domestic   R-squared:                       0.520\n",
       "Model:                            OLS   Adj. R-squared:                  0.515\n",
       "Method:                 Least Squares   F-statistic:                     103.1\n",
       "Date:                Fri, 14 May 2021   Prob (F-statistic):          7.74e-102\n",
       "Time:                        02:07:32   Log-Likelihood:                -13261.\n",
       "No. Observations:                 674   AIC:                         2.654e+04\n",
       "Df Residuals:                     666   BIC:                         2.657e+04\n",
       "Df Model:                           7                                         \n",
       "Covariance Type:            nonrobust                                         \n",
       "=====================================================================================\n",
       "                        coef    std err          t      P>|t|      [0.025      0.975]\n",
       "-------------------------------------------------------------------------------------\n",
       "const             -1.889e+08   2.08e+07     -9.070      0.000    -2.3e+08   -1.48e+08\n",
       "Runtime            1.391e+06   2.06e+05      6.752      0.000    9.87e+05     1.8e+06\n",
       "Director_Rankings  6.003e+07   8.01e+06      7.492      0.000    4.43e+07    7.58e+07\n",
       "Actor_Rankings     3.022e+07   3.06e+06      9.865      0.000    2.42e+07    3.62e+07\n",
       "PG13               2.095e+07   7.31e+06      2.864      0.004    6.59e+06    3.53e+07\n",
       "Holiday_Season     4.529e+07   1.24e+07      3.654      0.000     2.1e+07    6.96e+07\n",
       "Adventure           5.05e+07   6.97e+06      7.248      0.000    3.68e+07    6.42e+07\n",
       "Trope_Count        2.378e+06   1.49e+06      1.599      0.110   -5.42e+05     5.3e+06\n",
       "==============================================================================\n",
       "Omnibus:                      354.085   Durbin-Watson:                   0.798\n",
       "Prob(Omnibus):                  0.000   Jarque-Bera (JB):             3437.244\n",
       "Skew:                           2.147   Prob(JB):                         0.00\n",
       "Kurtosis:                      13.196   Cond. No.                         702.\n",
       "==============================================================================\n",
       "\n",
       "Notes:\n",
       "[1] Standard Errors assume that the covariance matrix of the errors is correctly specified.\n",
       "\"\"\""
      ]
     },
     "execution_count": 350,
     "metadata": {},
     "output_type": "execute_result"
    }
   ],
   "source": [
    "model=sm.OLS(y,sm.add_constant(X))\n",
    "results=model.fit()\n",
    "results.summary()"
   ]
  },
  {
   "cell_type": "code",
   "execution_count": 351,
   "id": "warming-buffalo",
   "metadata": {},
   "outputs": [
    {
     "data": {
      "text/html": [
       "<div>\n",
       "<style scoped>\n",
       "    .dataframe tbody tr th:only-of-type {\n",
       "        vertical-align: middle;\n",
       "    }\n",
       "\n",
       "    .dataframe tbody tr th {\n",
       "        vertical-align: top;\n",
       "    }\n",
       "\n",
       "    .dataframe thead th {\n",
       "        text-align: right;\n",
       "    }\n",
       "</style>\n",
       "<table border=\"1\" class=\"dataframe\">\n",
       "  <thead>\n",
       "    <tr style=\"text-align: right;\">\n",
       "      <th></th>\n",
       "      <th>Revenue</th>\n",
       "      <th>Runtime</th>\n",
       "      <th>Actor_Rankings</th>\n",
       "      <th>PG13</th>\n",
       "      <th>PG</th>\n",
       "      <th>R</th>\n",
       "      <th>G</th>\n",
       "      <th>Approved</th>\n",
       "      <th>Unrated</th>\n",
       "      <th>M</th>\n",
       "      <th>...</th>\n",
       "      <th>Action</th>\n",
       "      <th>Adventure</th>\n",
       "      <th>Drama</th>\n",
       "      <th>Comedy</th>\n",
       "      <th>Thriller</th>\n",
       "      <th>Horror</th>\n",
       "      <th>Holiday_Season</th>\n",
       "      <th>Trope_Count</th>\n",
       "      <th>Domestic</th>\n",
       "      <th>Director_Rankings</th>\n",
       "    </tr>\n",
       "  </thead>\n",
       "  <tbody>\n",
       "    <tr>\n",
       "      <th>count</th>\n",
       "      <td>6.740000e+02</td>\n",
       "      <td>674.000000</td>\n",
       "      <td>674.000000</td>\n",
       "      <td>674.000000</td>\n",
       "      <td>674.000000</td>\n",
       "      <td>674.000000</td>\n",
       "      <td>674.000000</td>\n",
       "      <td>674.000000</td>\n",
       "      <td>674.000000</td>\n",
       "      <td>674.000000</td>\n",
       "      <td>...</td>\n",
       "      <td>674.000000</td>\n",
       "      <td>674.000000</td>\n",
       "      <td>674.000000</td>\n",
       "      <td>674.000000</td>\n",
       "      <td>674.000000</td>\n",
       "      <td>674.000000</td>\n",
       "      <td>674.000000</td>\n",
       "      <td>674.000000</td>\n",
       "      <td>6.740000e+02</td>\n",
       "      <td>674.000000</td>\n",
       "    </tr>\n",
       "    <tr>\n",
       "      <th>mean</th>\n",
       "      <td>1.863178e+08</td>\n",
       "      <td>108.455490</td>\n",
       "      <td>1.256677</td>\n",
       "      <td>0.390208</td>\n",
       "      <td>0.182493</td>\n",
       "      <td>0.295252</td>\n",
       "      <td>0.026706</td>\n",
       "      <td>0.005935</td>\n",
       "      <td>0.056380</td>\n",
       "      <td>0.005935</td>\n",
       "      <td>...</td>\n",
       "      <td>0.553412</td>\n",
       "      <td>0.462908</td>\n",
       "      <td>0.320475</td>\n",
       "      <td>0.255193</td>\n",
       "      <td>0.413947</td>\n",
       "      <td>0.201780</td>\n",
       "      <td>0.077151</td>\n",
       "      <td>7.102374</td>\n",
       "      <td>7.444954e+07</td>\n",
       "      <td>0.375371</td>\n",
       "    </tr>\n",
       "    <tr>\n",
       "      <th>std</th>\n",
       "      <td>3.180992e+08</td>\n",
       "      <td>18.405663</td>\n",
       "      <td>1.235071</td>\n",
       "      <td>0.488159</td>\n",
       "      <td>0.386537</td>\n",
       "      <td>0.456495</td>\n",
       "      <td>0.161343</td>\n",
       "      <td>0.076865</td>\n",
       "      <td>0.230825</td>\n",
       "      <td>0.076865</td>\n",
       "      <td>...</td>\n",
       "      <td>0.497508</td>\n",
       "      <td>0.498993</td>\n",
       "      <td>0.467006</td>\n",
       "      <td>0.436293</td>\n",
       "      <td>0.492905</td>\n",
       "      <td>0.401627</td>\n",
       "      <td>0.267030</td>\n",
       "      <td>2.453107</td>\n",
       "      <td>1.225170e+08</td>\n",
       "      <td>0.484578</td>\n",
       "    </tr>\n",
       "    <tr>\n",
       "      <th>min</th>\n",
       "      <td>2.680000e+03</td>\n",
       "      <td>71.000000</td>\n",
       "      <td>0.000000</td>\n",
       "      <td>0.000000</td>\n",
       "      <td>0.000000</td>\n",
       "      <td>0.000000</td>\n",
       "      <td>0.000000</td>\n",
       "      <td>0.000000</td>\n",
       "      <td>0.000000</td>\n",
       "      <td>0.000000</td>\n",
       "      <td>...</td>\n",
       "      <td>0.000000</td>\n",
       "      <td>0.000000</td>\n",
       "      <td>0.000000</td>\n",
       "      <td>0.000000</td>\n",
       "      <td>0.000000</td>\n",
       "      <td>0.000000</td>\n",
       "      <td>0.000000</td>\n",
       "      <td>4.000000</td>\n",
       "      <td>1.699000e+03</td>\n",
       "      <td>0.000000</td>\n",
       "    </tr>\n",
       "    <tr>\n",
       "      <th>25%</th>\n",
       "      <td>9.979213e+06</td>\n",
       "      <td>94.250000</td>\n",
       "      <td>0.000000</td>\n",
       "      <td>0.000000</td>\n",
       "      <td>0.000000</td>\n",
       "      <td>0.000000</td>\n",
       "      <td>0.000000</td>\n",
       "      <td>0.000000</td>\n",
       "      <td>0.000000</td>\n",
       "      <td>0.000000</td>\n",
       "      <td>...</td>\n",
       "      <td>0.000000</td>\n",
       "      <td>0.000000</td>\n",
       "      <td>0.000000</td>\n",
       "      <td>0.000000</td>\n",
       "      <td>0.000000</td>\n",
       "      <td>0.000000</td>\n",
       "      <td>0.000000</td>\n",
       "      <td>5.000000</td>\n",
       "      <td>2.522017e+06</td>\n",
       "      <td>0.000000</td>\n",
       "    </tr>\n",
       "    <tr>\n",
       "      <th>50%</th>\n",
       "      <td>6.506389e+07</td>\n",
       "      <td>106.000000</td>\n",
       "      <td>1.000000</td>\n",
       "      <td>0.000000</td>\n",
       "      <td>0.000000</td>\n",
       "      <td>0.000000</td>\n",
       "      <td>0.000000</td>\n",
       "      <td>0.000000</td>\n",
       "      <td>0.000000</td>\n",
       "      <td>0.000000</td>\n",
       "      <td>...</td>\n",
       "      <td>1.000000</td>\n",
       "      <td>0.000000</td>\n",
       "      <td>0.000000</td>\n",
       "      <td>0.000000</td>\n",
       "      <td>0.000000</td>\n",
       "      <td>0.000000</td>\n",
       "      <td>0.000000</td>\n",
       "      <td>7.000000</td>\n",
       "      <td>2.994591e+07</td>\n",
       "      <td>0.000000</td>\n",
       "    </tr>\n",
       "    <tr>\n",
       "      <th>75%</th>\n",
       "      <td>1.962588e+08</td>\n",
       "      <td>119.000000</td>\n",
       "      <td>2.000000</td>\n",
       "      <td>1.000000</td>\n",
       "      <td>0.000000</td>\n",
       "      <td>1.000000</td>\n",
       "      <td>0.000000</td>\n",
       "      <td>0.000000</td>\n",
       "      <td>0.000000</td>\n",
       "      <td>0.000000</td>\n",
       "      <td>...</td>\n",
       "      <td>1.000000</td>\n",
       "      <td>1.000000</td>\n",
       "      <td>1.000000</td>\n",
       "      <td>1.000000</td>\n",
       "      <td>1.000000</td>\n",
       "      <td>0.000000</td>\n",
       "      <td>0.000000</td>\n",
       "      <td>9.000000</td>\n",
       "      <td>7.924044e+07</td>\n",
       "      <td>1.000000</td>\n",
       "    </tr>\n",
       "    <tr>\n",
       "      <th>max</th>\n",
       "      <td>2.847246e+09</td>\n",
       "      <td>181.000000</td>\n",
       "      <td>4.000000</td>\n",
       "      <td>1.000000</td>\n",
       "      <td>1.000000</td>\n",
       "      <td>1.000000</td>\n",
       "      <td>1.000000</td>\n",
       "      <td>1.000000</td>\n",
       "      <td>1.000000</td>\n",
       "      <td>1.000000</td>\n",
       "      <td>...</td>\n",
       "      <td>1.000000</td>\n",
       "      <td>1.000000</td>\n",
       "      <td>1.000000</td>\n",
       "      <td>1.000000</td>\n",
       "      <td>1.000000</td>\n",
       "      <td>1.000000</td>\n",
       "      <td>1.000000</td>\n",
       "      <td>17.000000</td>\n",
       "      <td>9.366622e+08</td>\n",
       "      <td>1.000000</td>\n",
       "    </tr>\n",
       "  </tbody>\n",
       "</table>\n",
       "<p>8 rows × 23 columns</p>\n",
       "</div>"
      ],
      "text/plain": [
       "            Revenue     Runtime  Actor_Rankings        PG13          PG  \\\n",
       "count  6.740000e+02  674.000000      674.000000  674.000000  674.000000   \n",
       "mean   1.863178e+08  108.455490        1.256677    0.390208    0.182493   \n",
       "std    3.180992e+08   18.405663        1.235071    0.488159    0.386537   \n",
       "min    2.680000e+03   71.000000        0.000000    0.000000    0.000000   \n",
       "25%    9.979213e+06   94.250000        0.000000    0.000000    0.000000   \n",
       "50%    6.506389e+07  106.000000        1.000000    0.000000    0.000000   \n",
       "75%    1.962588e+08  119.000000        2.000000    1.000000    0.000000   \n",
       "max    2.847246e+09  181.000000        4.000000    1.000000    1.000000   \n",
       "\n",
       "                R           G    Approved     Unrated           M  ...  \\\n",
       "count  674.000000  674.000000  674.000000  674.000000  674.000000  ...   \n",
       "mean     0.295252    0.026706    0.005935    0.056380    0.005935  ...   \n",
       "std      0.456495    0.161343    0.076865    0.230825    0.076865  ...   \n",
       "min      0.000000    0.000000    0.000000    0.000000    0.000000  ...   \n",
       "25%      0.000000    0.000000    0.000000    0.000000    0.000000  ...   \n",
       "50%      0.000000    0.000000    0.000000    0.000000    0.000000  ...   \n",
       "75%      1.000000    0.000000    0.000000    0.000000    0.000000  ...   \n",
       "max      1.000000    1.000000    1.000000    1.000000    1.000000  ...   \n",
       "\n",
       "           Action   Adventure       Drama      Comedy    Thriller      Horror  \\\n",
       "count  674.000000  674.000000  674.000000  674.000000  674.000000  674.000000   \n",
       "mean     0.553412    0.462908    0.320475    0.255193    0.413947    0.201780   \n",
       "std      0.497508    0.498993    0.467006    0.436293    0.492905    0.401627   \n",
       "min      0.000000    0.000000    0.000000    0.000000    0.000000    0.000000   \n",
       "25%      0.000000    0.000000    0.000000    0.000000    0.000000    0.000000   \n",
       "50%      1.000000    0.000000    0.000000    0.000000    0.000000    0.000000   \n",
       "75%      1.000000    1.000000    1.000000    1.000000    1.000000    0.000000   \n",
       "max      1.000000    1.000000    1.000000    1.000000    1.000000    1.000000   \n",
       "\n",
       "       Holiday_Season  Trope_Count      Domestic  Director_Rankings  \n",
       "count      674.000000   674.000000  6.740000e+02         674.000000  \n",
       "mean         0.077151     7.102374  7.444954e+07           0.375371  \n",
       "std          0.267030     2.453107  1.225170e+08           0.484578  \n",
       "min          0.000000     4.000000  1.699000e+03           0.000000  \n",
       "25%          0.000000     5.000000  2.522017e+06           0.000000  \n",
       "50%          0.000000     7.000000  2.994591e+07           0.000000  \n",
       "75%          0.000000     9.000000  7.924044e+07           1.000000  \n",
       "max          1.000000    17.000000  9.366622e+08           1.000000  \n",
       "\n",
       "[8 rows x 23 columns]"
      ]
     },
     "execution_count": 351,
     "metadata": {},
     "output_type": "execute_result"
    }
   ],
   "source": [
    "clean_df.describe()"
   ]
  },
  {
   "cell_type": "code",
   "execution_count": 352,
   "id": "fuzzy-reviewer",
   "metadata": {},
   "outputs": [
    {
     "name": "stderr",
     "output_type": "stream",
     "text": [
      "*c* argument looks like a single numeric RGB or RGBA sequence, which should be avoided as value-mapping will have precedence in case its length matches with *x* & *y*.  Please use the *color* keyword-argument or provide a 2-D array with a single row if you intend to specify the same RGB or RGBA value for all points.\n"
     ]
    },
    {
     "data": {
      "image/png": "[encoded data removed]",
      "text/plain": [
       "<Figure size 720x432 with 1 Axes>"
      ]
     },
     "metadata": {},
     "output_type": "display_data"
    }
   ],
   "source": [
    "clean_df['predict']=fit.predict(X)\n",
    "clean_df['resid']=clean_df.Revenue-clean_df.predict\n",
    "with sns.axes_style('white'):\n",
    "    plot=clean_df.plot(kind='scatter',\n",
    "                  x='predict',y='resid',alpha=0.2,figsize=(10,6))"
   ]
  },
  {
   "cell_type": "code",
   "execution_count": 353,
   "id": "tribal-banking",
   "metadata": {},
   "outputs": [],
   "source": [
    "X, X_test, y, y_test = train_test_split(X, y, test_size=.2, random_state=10)"
   ]
  },
  {
   "cell_type": "code",
   "execution_count": 354,
   "id": "frozen-needle",
   "metadata": {},
   "outputs": [],
   "source": [
    "X_train, X_val, y_train, y_val = train_test_split(X, y, test_size=.25, random_state=3)"
   ]
  },
  {
   "cell_type": "code",
   "execution_count": 355,
   "id": "yellow-simon",
   "metadata": {},
   "outputs": [
    {
     "data": {
      "text/plain": [
       "StandardScaler()"
      ]
     },
     "execution_count": 355,
     "metadata": {},
     "output_type": "execute_result"
    }
   ],
   "source": [
    "scaler = StandardScaler()\n",
    "scaler.fit(X_train)"
   ]
  },
  {
   "cell_type": "code",
   "execution_count": 356,
   "id": "liable-fisher",
   "metadata": {},
   "outputs": [
    {
     "data": {
      "text/plain": [
       "0.6115332371693856"
      ]
     },
     "execution_count": 356,
     "metadata": {},
     "output_type": "execute_result"
    }
   ],
   "source": [
    "lm = LinearRegression()\n",
    "lm.fit(X_train, y_train)\n",
    "lm.score(X_val,y_val)"
   ]
  },
  {
   "cell_type": "code",
   "execution_count": 357,
   "id": "southeast-validity",
   "metadata": {},
   "outputs": [
    {
     "data": {
      "image/png": "[encoded data removed]",
      "text/plain": [
       "<Figure size 864x360 with 1 Axes>"
      ]
     },
     "metadata": {},
     "output_type": "display_data"
    }
   ],
   "source": [
    "plt.figure(figsize=(12,5))\n",
    "\n",
    "p_y = lm.predict(X_val)\n",
    "plt.scatter(p_y, y_val, alpha=0.25)\n",
    "plt.plot([0, 500000000], [0, 500000000])\n",
    "plt.ylabel('actual')\n",
    "plt.xlabel('predictions')\n",
    "plt.title(\"Observations vs Predictions\");"
   ]
  },
  {
   "cell_type": "code",
   "execution_count": 358,
   "id": "responsible-speaker",
   "metadata": {},
   "outputs": [
    {
     "data": {
      "image/png": "[encoded data removed]",
      "text/plain": [
       "<Figure size 648x360 with 1 Axes>"
      ]
     },
     "metadata": {},
     "output_type": "display_data"
    }
   ],
   "source": [
    "plt.figure(figsize=(9,5))\n",
    "\n",
    "lm_residuals = y_val - p_y\n",
    "plt.scatter(p_y, lm_residuals, alpha=.2)\n",
    "plt.xlabel('predictions')\n",
    "plt.ylabel('residuals')\n",
    "plt.plot([0,500000000], [0, 0])\n",
    "plt.title(\"Residuals vs. Predictions\");\n"
   ]
  },
  {
   "cell_type": "code",
   "execution_count": 359,
   "id": "motivated-modem",
   "metadata": {},
   "outputs": [],
   "source": [
    "#creating interaction features\n",
    "clean_df2['Director_RT']=movies_df['Runtime']*movies_df['Director_Rankings']\n",
    "clean_df2['Actors_RT']=movies_df['Runtime']*movies_df['Actor_Rankings']\n",
    "clean_df2['Action_RT']=movies_df['Runtime']*movies_df['Action']\n",
    "clean_df2['PG13_RT']=movies_df['Runtime']*movies_df['PG13']\n",
    "clean_df2['Holiday_RT']=movies_df['Runtime']*movies_df['Holiday_Season']\n",
    "clean_df2['Adventure_RT']=movies_df['Runtime']*movies_df['Adventure']\n",
    "clean_df2['Trope_RT']=movies_df['Runtime']*movies_df['Trope_Count']"
   ]
  },
  {
   "cell_type": "code",
   "execution_count": 360,
   "id": "instrumental-republican",
   "metadata": {},
   "outputs": [
    {
     "data": {
      "text/html": [
       "<div>\n",
       "<style scoped>\n",
       "    .dataframe tbody tr th:only-of-type {\n",
       "        vertical-align: middle;\n",
       "    }\n",
       "\n",
       "    .dataframe tbody tr th {\n",
       "        vertical-align: top;\n",
       "    }\n",
       "\n",
       "    .dataframe thead th {\n",
       "        text-align: right;\n",
       "    }\n",
       "</style>\n",
       "<table border=\"1\" class=\"dataframe\">\n",
       "  <thead>\n",
       "    <tr style=\"text-align: right;\">\n",
       "      <th></th>\n",
       "      <th>Revenue</th>\n",
       "      <th>Runtime</th>\n",
       "      <th>Actor_Rankings</th>\n",
       "      <th>PG13</th>\n",
       "      <th>Action</th>\n",
       "      <th>Adventure</th>\n",
       "      <th>Holiday_Season</th>\n",
       "      <th>Trope_Count</th>\n",
       "      <th>Domestic</th>\n",
       "      <th>Director_Rankings</th>\n",
       "      <th>Director_RT</th>\n",
       "      <th>Actors_RT</th>\n",
       "      <th>Action_RT</th>\n",
       "      <th>PG13_RT</th>\n",
       "      <th>Holiday_RT</th>\n",
       "      <th>Adventure_RT</th>\n",
       "      <th>Trope_RT</th>\n",
       "    </tr>\n",
       "  </thead>\n",
       "  <tbody>\n",
       "    <tr>\n",
       "      <th>0</th>\n",
       "      <td>2068455677</td>\n",
       "      <td>138.0</td>\n",
       "      <td>4</td>\n",
       "      <td>1</td>\n",
       "      <td>1</td>\n",
       "      <td>1</td>\n",
       "      <td>1</td>\n",
       "      <td>9</td>\n",
       "      <td>936662225</td>\n",
       "      <td>1</td>\n",
       "      <td>138.0</td>\n",
       "      <td>552.0</td>\n",
       "      <td>138.0</td>\n",
       "      <td>138.0</td>\n",
       "      <td>138.0</td>\n",
       "      <td>138.0</td>\n",
       "      <td>1242.0</td>\n",
       "    </tr>\n",
       "    <tr>\n",
       "      <th>1</th>\n",
       "      <td>2797501328</td>\n",
       "      <td>181.0</td>\n",
       "      <td>3</td>\n",
       "      <td>1</td>\n",
       "      <td>1</td>\n",
       "      <td>1</td>\n",
       "      <td>0</td>\n",
       "      <td>17</td>\n",
       "      <td>858373000</td>\n",
       "      <td>1</td>\n",
       "      <td>181.0</td>\n",
       "      <td>543.0</td>\n",
       "      <td>181.0</td>\n",
       "      <td>181.0</td>\n",
       "      <td>0.0</td>\n",
       "      <td>181.0</td>\n",
       "      <td>3077.0</td>\n",
       "    </tr>\n",
       "    <tr>\n",
       "      <th>2</th>\n",
       "      <td>2847246203</td>\n",
       "      <td>162.0</td>\n",
       "      <td>4</td>\n",
       "      <td>1</td>\n",
       "      <td>1</td>\n",
       "      <td>1</td>\n",
       "      <td>1</td>\n",
       "      <td>11</td>\n",
       "      <td>760507625</td>\n",
       "      <td>1</td>\n",
       "      <td>162.0</td>\n",
       "      <td>648.0</td>\n",
       "      <td>162.0</td>\n",
       "      <td>162.0</td>\n",
       "      <td>162.0</td>\n",
       "      <td>162.0</td>\n",
       "      <td>1782.0</td>\n",
       "    </tr>\n",
       "    <tr>\n",
       "      <th>3</th>\n",
       "      <td>1347597973</td>\n",
       "      <td>134.0</td>\n",
       "      <td>3</td>\n",
       "      <td>1</td>\n",
       "      <td>1</td>\n",
       "      <td>1</td>\n",
       "      <td>0</td>\n",
       "      <td>9</td>\n",
       "      <td>700426566</td>\n",
       "      <td>1</td>\n",
       "      <td>134.0</td>\n",
       "      <td>402.0</td>\n",
       "      <td>134.0</td>\n",
       "      <td>134.0</td>\n",
       "      <td>0.0</td>\n",
       "      <td>134.0</td>\n",
       "      <td>1206.0</td>\n",
       "    </tr>\n",
       "    <tr>\n",
       "      <th>5</th>\n",
       "      <td>1670516444</td>\n",
       "      <td>124.0</td>\n",
       "      <td>4</td>\n",
       "      <td>1</td>\n",
       "      <td>1</td>\n",
       "      <td>1</td>\n",
       "      <td>0</td>\n",
       "      <td>7</td>\n",
       "      <td>652385625</td>\n",
       "      <td>1</td>\n",
       "      <td>124.0</td>\n",
       "      <td>496.0</td>\n",
       "      <td>124.0</td>\n",
       "      <td>124.0</td>\n",
       "      <td>0.0</td>\n",
       "      <td>124.0</td>\n",
       "      <td>868.0</td>\n",
       "    </tr>\n",
       "  </tbody>\n",
       "</table>\n",
       "</div>"
      ],
      "text/plain": [
       "      Revenue  Runtime  Actor_Rankings  PG13  Action  Adventure  \\\n",
       "0  2068455677    138.0               4     1       1          1   \n",
       "1  2797501328    181.0               3     1       1          1   \n",
       "2  2847246203    162.0               4     1       1          1   \n",
       "3  1347597973    134.0               3     1       1          1   \n",
       "5  1670516444    124.0               4     1       1          1   \n",
       "\n",
       "   Holiday_Season  Trope_Count   Domestic  Director_Rankings  Director_RT  \\\n",
       "0               1            9  936662225                  1        138.0   \n",
       "1               0           17  858373000                  1        181.0   \n",
       "2               1           11  760507625                  1        162.0   \n",
       "3               0            9  700426566                  1        134.0   \n",
       "5               0            7  652385625                  1        124.0   \n",
       "\n",
       "   Actors_RT  Action_RT  PG13_RT  Holiday_RT  Adventure_RT  Trope_RT  \n",
       "0      552.0      138.0    138.0       138.0         138.0    1242.0  \n",
       "1      543.0      181.0    181.0         0.0         181.0    3077.0  \n",
       "2      648.0      162.0    162.0       162.0         162.0    1782.0  \n",
       "3      402.0      134.0    134.0         0.0         134.0    1206.0  \n",
       "5      496.0      124.0    124.0         0.0         124.0     868.0  "
      ]
     },
     "execution_count": 360,
     "metadata": {},
     "output_type": "execute_result"
    }
   ],
   "source": [
    "clean_df2.head()"
   ]
  },
  {
   "cell_type": "code",
   "execution_count": 372,
   "id": "graphic-regulation",
   "metadata": {},
   "outputs": [],
   "source": [
    "interaction_df=clean_df2.drop(['Actor_Rankings','PG13','Action','Adventure','Director_Rankings'],axis=1)"
   ]
  },
  {
   "cell_type": "code",
   "execution_count": 373,
   "id": "indie-gibraltar",
   "metadata": {},
   "outputs": [
    {
     "data": {
      "text/plain": [
       "<AxesSubplot:>"
      ]
     },
     "execution_count": 373,
     "metadata": {},
     "output_type": "execute_result"
    },
    {
     "data": {
      "image/png": "[encoded data removed]",
      "text/plain": [
       "<Figure size 432x288 with 2 Axes>"
      ]
     },
     "metadata": {},
     "output_type": "display_data"
    }
   ],
   "source": [
    "sns.heatmap(interaction_df.corr(), cmap='Blues', annot=True)"
   ]
  },
  {
   "cell_type": "code",
   "execution_count": 374,
   "id": "romance-responsibility",
   "metadata": {},
   "outputs": [
    {
     "data": {
      "image/png": "[encoded data removed]",
      "text/plain": [
       "<Figure size 288x360 with 1 Axes>"
      ]
     },
     "metadata": {},
     "output_type": "display_data"
    }
   ],
   "source": [
    "sns.pairplot(clean_df, x_vars=['Actor_Rankings'], y_vars=['Revenue'],\n",
    "             height=5, aspect=.8, kind=\"reg\");"
   ]
  },
  {
   "cell_type": "code",
   "execution_count": 375,
   "id": "occupational-george",
   "metadata": {},
   "outputs": [
    {
     "data": {
      "image/png": "[encoded data removed]",
      "text/plain": [
       "<Figure size 288x360 with 1 Axes>"
      ]
     },
     "metadata": {},
     "output_type": "display_data"
    }
   ],
   "source": [
    "sns.pairplot(interaction_df, x_vars=['Actors_RT'], y_vars=['Revenue'],\n",
    "             height=5, aspect=.8, kind=\"reg\");"
   ]
  },
  {
   "cell_type": "code",
   "execution_count": 376,
   "id": "active-bulletin",
   "metadata": {},
   "outputs": [
    {
     "data": {
      "image/png": "[encoded data removed]",
      "text/plain": [
       "<Figure size 288x360 with 1 Axes>"
      ]
     },
     "metadata": {},
     "output_type": "display_data"
    }
   ],
   "source": [
    "sns.pairplot(interaction_df, x_vars=['Adventure_RT'], y_vars=['Revenue'],\n",
    "             height=5, aspect=.8, kind=\"reg\");"
   ]
  },
  {
   "cell_type": "code",
   "execution_count": 377,
   "id": "meaning-radio",
   "metadata": {},
   "outputs": [
    {
     "data": {
      "image/png": "[encoded data removed]",
      "text/plain": [
       "<Figure size 288x360 with 1 Axes>"
      ]
     },
     "metadata": {},
     "output_type": "display_data"
    }
   ],
   "source": [
    "sns.pairplot(interaction_df, x_vars=['Director_RT'], y_vars=['Revenue'],\n",
    "             height=5, aspect=.8, kind=\"reg\");"
   ]
  },
  {
   "cell_type": "code",
   "execution_count": 378,
   "id": "nearby-microphone",
   "metadata": {},
   "outputs": [
    {
     "data": {
      "image/png": "[encoded data removed]",
      "text/plain": [
       "<Figure size 288x360 with 1 Axes>"
      ]
     },
     "metadata": {},
     "output_type": "display_data"
    }
   ],
   "source": [
    "sns.pairplot(interaction_df, x_vars=['Holiday_RT'], y_vars=['Revenue'],\n",
    "             height=5, aspect=.8, kind=\"reg\");"
   ]
  },
  {
   "cell_type": "code",
   "execution_count": 379,
   "id": "proper-measure",
   "metadata": {},
   "outputs": [
    {
     "data": {
      "image/png": "[encoded data removed]",
      "text/plain": [
       "<Figure size 288x360 with 1 Axes>"
      ]
     },
     "metadata": {},
     "output_type": "display_data"
    }
   ],
   "source": [
    "sns.pairplot(interaction_df, x_vars=['Runtime'], y_vars=['Revenue'],\n",
    "             height=5, aspect=.8, kind=\"reg\");"
   ]
  },
  {
   "cell_type": "code",
   "execution_count": 380,
   "id": "proud-genius",
   "metadata": {},
   "outputs": [
    {
     "data": {
      "image/png": "[encoded data removed]",
      "text/plain": [
       "<Figure size 288x360 with 1 Axes>"
      ]
     },
     "metadata": {},
     "output_type": "display_data"
    }
   ],
   "source": [
    "sns.pairplot(interaction_df, x_vars=['Trope_RT'], y_vars=['Revenue'],\n",
    "             height=5, aspect=.8, kind=\"reg\");"
   ]
  },
  {
   "cell_type": "code",
   "execution_count": 386,
   "id": "bronze-seller",
   "metadata": {},
   "outputs": [
    {
     "data": {
      "image/png": "[encoded data removed]",
      "text/plain": [
       "<Figure size 288x360 with 1 Axes>"
      ]
     },
     "metadata": {},
     "output_type": "display_data"
    }
   ],
   "source": [
    "sns.pairplot(clean_df, x_vars=['Trope_Count'], y_vars=['Revenue'],\n",
    "             height=5, aspect=.8, kind=\"reg\");"
   ]
  },
  {
   "cell_type": "code",
   "execution_count": 384,
   "id": "endless-happiness",
   "metadata": {},
   "outputs": [
    {
     "data": {
      "image/png": "[encoded data removed]",
      "text/plain": [
       "<Figure size 360x360 with 1 Axes>"
      ]
     },
     "metadata": {},
     "output_type": "display_data"
    }
   ],
   "source": [
    "sns.lmplot(x='Actors_RT', y=\"Revenue\", data=interaction_df, x_estimator=np.mean);"
   ]
  },
  {
   "cell_type": "code",
   "execution_count": 382,
   "id": "atmospheric-foundation",
   "metadata": {},
   "outputs": [],
   "source": [
    "lr2=LinearRegression()\n",
    "X2=interaction_df[['Runtime','Director_RT','Actors_RT','PG13_RT','Holiday_RT','Adventure_RT','Trope_Count']]\n",
    "y2=interaction_df['Domestic']"
   ]
  },
  {
   "cell_type": "code",
   "execution_count": 242,
   "id": "alert-interaction",
   "metadata": {},
   "outputs": [
    {
     "data": {
      "text/plain": [
       "0.5769572262713681"
      ]
     },
     "execution_count": 242,
     "metadata": {},
     "output_type": "execute_result"
    }
   ],
   "source": [
    "fit2=lr2.fit(X2, y2)\n",
    "lr2.score(X2,y2)"
   ]
  },
  {
   "cell_type": "code",
   "execution_count": 243,
   "id": "employed-large",
   "metadata": {},
   "outputs": [
    {
     "data": {
      "text/html": [
       "<table class=\"simpletable\">\n",
       "<caption>OLS Regression Results</caption>\n",
       "<tr>\n",
       "  <th>Dep. Variable:</th>        <td>Domestic</td>     <th>  R-squared:         </th> <td>   0.577</td> \n",
       "</tr>\n",
       "<tr>\n",
       "  <th>Model:</th>                   <td>OLS</td>       <th>  Adj. R-squared:    </th> <td>   0.573</td> \n",
       "</tr>\n",
       "<tr>\n",
       "  <th>Method:</th>             <td>Least Squares</td>  <th>  F-statistic:       </th> <td>   129.8</td> \n",
       "</tr>\n",
       "<tr>\n",
       "  <th>Date:</th>             <td>Fri, 14 May 2021</td> <th>  Prob (F-statistic):</th> <td>6.05e-120</td>\n",
       "</tr>\n",
       "<tr>\n",
       "  <th>Time:</th>                 <td>00:49:33</td>     <th>  Log-Likelihood:    </th> <td> -13218.</td> \n",
       "</tr>\n",
       "<tr>\n",
       "  <th>No. Observations:</th>      <td>   674</td>      <th>  AIC:               </th> <td>2.645e+04</td>\n",
       "</tr>\n",
       "<tr>\n",
       "  <th>Df Residuals:</th>          <td>   666</td>      <th>  BIC:               </th> <td>2.649e+04</td>\n",
       "</tr>\n",
       "<tr>\n",
       "  <th>Df Model:</th>              <td>     7</td>      <th>                     </th>     <td> </td>    \n",
       "</tr>\n",
       "<tr>\n",
       "  <th>Covariance Type:</th>      <td>nonrobust</td>    <th>                     </th>     <td> </td>    \n",
       "</tr>\n",
       "</table>\n",
       "<table class=\"simpletable\">\n",
       "<tr>\n",
       "        <td></td>          <th>coef</th>     <th>std err</th>      <th>t</th>      <th>P>|t|</th>  <th>[0.025</th>    <th>0.975]</th>  \n",
       "</tr>\n",
       "<tr>\n",
       "  <th>const</th>        <td>-7.088e+07</td> <td> 2.11e+07</td> <td>   -3.358</td> <td> 0.001</td> <td>-1.12e+08</td> <td>-2.94e+07</td>\n",
       "</tr>\n",
       "<tr>\n",
       "  <th>Runtime</th>      <td> 3.211e+05</td> <td>  2.1e+05</td> <td>    1.527</td> <td> 0.127</td> <td>-9.18e+04</td> <td> 7.34e+05</td>\n",
       "</tr>\n",
       "<tr>\n",
       "  <th>Director_RT</th>  <td> 5.626e+05</td> <td> 6.87e+04</td> <td>    8.192</td> <td> 0.000</td> <td> 4.28e+05</td> <td> 6.97e+05</td>\n",
       "</tr>\n",
       "<tr>\n",
       "  <th>Actors_RT</th>    <td> 2.891e+05</td> <td> 2.54e+04</td> <td>   11.403</td> <td> 0.000</td> <td> 2.39e+05</td> <td> 3.39e+05</td>\n",
       "</tr>\n",
       "<tr>\n",
       "  <th>PG13_RT</th>      <td> 1.635e+05</td> <td> 6.32e+04</td> <td>    2.589</td> <td> 0.010</td> <td> 3.95e+04</td> <td> 2.88e+05</td>\n",
       "</tr>\n",
       "<tr>\n",
       "  <th>Holiday_RT</th>   <td> 4.396e+05</td> <td> 1.04e+05</td> <td>    4.227</td> <td> 0.000</td> <td> 2.35e+05</td> <td> 6.44e+05</td>\n",
       "</tr>\n",
       "<tr>\n",
       "  <th>Adventure_RT</th> <td>     5e+05</td> <td> 6.05e+04</td> <td>    8.266</td> <td> 0.000</td> <td> 3.81e+05</td> <td> 6.19e+05</td>\n",
       "</tr>\n",
       "<tr>\n",
       "  <th>Trope_Count</th>  <td> 1.037e+06</td> <td>  1.4e+06</td> <td>    0.738</td> <td> 0.460</td> <td>-1.72e+06</td> <td> 3.79e+06</td>\n",
       "</tr>\n",
       "</table>\n",
       "<table class=\"simpletable\">\n",
       "<tr>\n",
       "  <th>Omnibus:</th>       <td>331.267</td> <th>  Durbin-Watson:     </th> <td>   0.943</td>\n",
       "</tr>\n",
       "<tr>\n",
       "  <th>Prob(Omnibus):</th> <td> 0.000</td>  <th>  Jarque-Bera (JB):  </th> <td>3113.157</td>\n",
       "</tr>\n",
       "<tr>\n",
       "  <th>Skew:</th>          <td> 1.979</td>  <th>  Prob(JB):          </th> <td>    0.00</td>\n",
       "</tr>\n",
       "<tr>\n",
       "  <th>Kurtosis:</th>      <td>12.756</td>  <th>  Cond. No.          </th> <td>1.68e+03</td>\n",
       "</tr>\n",
       "</table><br/><br/>Notes:<br/>[1] Standard Errors assume that the covariance matrix of the errors is correctly specified.<br/>[2] The condition number is large, 1.68e+03. This might indicate that there are<br/>strong multicollinearity or other numerical problems."
      ],
      "text/plain": [
       "<class 'statsmodels.iolib.summary.Summary'>\n",
       "\"\"\"\n",
       "                            OLS Regression Results                            \n",
       "==============================================================================\n",
       "Dep. Variable:               Domestic   R-squared:                       0.577\n",
       "Model:                            OLS   Adj. R-squared:                  0.573\n",
       "Method:                 Least Squares   F-statistic:                     129.8\n",
       "Date:                Fri, 14 May 2021   Prob (F-statistic):          6.05e-120\n",
       "Time:                        00:49:33   Log-Likelihood:                -13218.\n",
       "No. Observations:                 674   AIC:                         2.645e+04\n",
       "Df Residuals:                     666   BIC:                         2.649e+04\n",
       "Df Model:                           7                                         \n",
       "Covariance Type:            nonrobust                                         \n",
       "================================================================================\n",
       "                   coef    std err          t      P>|t|      [0.025      0.975]\n",
       "--------------------------------------------------------------------------------\n",
       "const        -7.088e+07   2.11e+07     -3.358      0.001   -1.12e+08   -2.94e+07\n",
       "Runtime       3.211e+05    2.1e+05      1.527      0.127   -9.18e+04    7.34e+05\n",
       "Director_RT   5.626e+05   6.87e+04      8.192      0.000    4.28e+05    6.97e+05\n",
       "Actors_RT     2.891e+05   2.54e+04     11.403      0.000    2.39e+05    3.39e+05\n",
       "PG13_RT       1.635e+05   6.32e+04      2.589      0.010    3.95e+04    2.88e+05\n",
       "Holiday_RT    4.396e+05   1.04e+05      4.227      0.000    2.35e+05    6.44e+05\n",
       "Adventure_RT      5e+05   6.05e+04      8.266      0.000    3.81e+05    6.19e+05\n",
       "Trope_Count   1.037e+06    1.4e+06      0.738      0.460   -1.72e+06    3.79e+06\n",
       "==============================================================================\n",
       "Omnibus:                      331.267   Durbin-Watson:                   0.943\n",
       "Prob(Omnibus):                  0.000   Jarque-Bera (JB):             3113.157\n",
       "Skew:                           1.979   Prob(JB):                         0.00\n",
       "Kurtosis:                      12.756   Cond. No.                     1.68e+03\n",
       "==============================================================================\n",
       "\n",
       "Notes:\n",
       "[1] Standard Errors assume that the covariance matrix of the errors is correctly specified.\n",
       "[2] The condition number is large, 1.68e+03. This might indicate that there are\n",
       "strong multicollinearity or other numerical problems.\n",
       "\"\"\""
      ]
     },
     "execution_count": 243,
     "metadata": {},
     "output_type": "execute_result"
    }
   ],
   "source": [
    "model2=sm.OLS(y2,sm.add_constant(X2))\n",
    "results2=model2.fit()\n",
    "results2.summary()\n",
    "#coefficients decreased -- good "
   ]
  },
  {
   "cell_type": "code",
   "execution_count": 244,
   "id": "future-warner",
   "metadata": {},
   "outputs": [],
   "source": [
    "X2, X_test2, y2, y_test2 = train_test_split(X2, y2, test_size=.2, random_state=10)\n",
    "X_train2, X_val2, y_train2, y_val2 = train_test_split(X2, y2, test_size=.25, random_state=3)"
   ]
  },
  {
   "cell_type": "code",
   "execution_count": 245,
   "id": "liquid-resistance",
   "metadata": {},
   "outputs": [],
   "source": [
    "import matplotlib as mpl\n",
    "mpl.rcParams['figure.figsize'] = (16, 6)"
   ]
  },
  {
   "cell_type": "code",
   "execution_count": 246,
   "id": "dirty-chuck",
   "metadata": {},
   "outputs": [
    {
     "data": {
      "text/plain": [
       "0.7671986514962641"
      ]
     },
     "execution_count": 246,
     "metadata": {},
     "output_type": "execute_result"
    }
   ],
   "source": [
    "reg = RandomForestRegressor(n_estimators=1700)\n",
    "reg.fit(X_train,y_train)\n",
    "reg.score(X_val,y_val)"
   ]
  },
  {
   "cell_type": "code",
   "execution_count": 247,
   "id": "decreased-ministry",
   "metadata": {},
   "outputs": [
    {
     "data": {
      "text/html": [
       "<div>\n",
       "<style scoped>\n",
       "    .dataframe tbody tr th:only-of-type {\n",
       "        vertical-align: middle;\n",
       "    }\n",
       "\n",
       "    .dataframe tbody tr th {\n",
       "        vertical-align: top;\n",
       "    }\n",
       "\n",
       "    .dataframe thead th {\n",
       "        text-align: right;\n",
       "    }\n",
       "</style>\n",
       "<table border=\"1\" class=\"dataframe\">\n",
       "  <thead>\n",
       "    <tr style=\"text-align: right;\">\n",
       "      <th></th>\n",
       "      <th>feature importance</th>\n",
       "    </tr>\n",
       "  </thead>\n",
       "  <tbody>\n",
       "    <tr>\n",
       "      <th>Runtime</th>\n",
       "      <td>0.303529</td>\n",
       "    </tr>\n",
       "    <tr>\n",
       "      <th>Actor_Rankings</th>\n",
       "      <td>0.253392</td>\n",
       "    </tr>\n",
       "    <tr>\n",
       "      <th>Director_Rankings</th>\n",
       "      <td>0.186104</td>\n",
       "    </tr>\n",
       "    <tr>\n",
       "      <th>Trope_Count</th>\n",
       "      <td>0.099634</td>\n",
       "    </tr>\n",
       "    <tr>\n",
       "      <th>Holiday_Season</th>\n",
       "      <td>0.072245</td>\n",
       "    </tr>\n",
       "    <tr>\n",
       "      <th>Adventure</th>\n",
       "      <td>0.065633</td>\n",
       "    </tr>\n",
       "    <tr>\n",
       "      <th>PG13</th>\n",
       "      <td>0.019463</td>\n",
       "    </tr>\n",
       "  </tbody>\n",
       "</table>\n",
       "</div>"
      ],
      "text/plain": [
       "                   feature importance\n",
       "Runtime                      0.303529\n",
       "Actor_Rankings               0.253392\n",
       "Director_Rankings            0.186104\n",
       "Trope_Count                  0.099634\n",
       "Holiday_Season               0.072245\n",
       "Adventure                    0.065633\n",
       "PG13                         0.019463"
      ]
     },
     "execution_count": 247,
     "metadata": {},
     "output_type": "execute_result"
    }
   ],
   "source": [
    "feat_importance_df = pd.DataFrame(reg.feature_importances_,index=X_train.columns, columns=['feature importance']).sort_values('feature importance', ascending=False)\n",
    "feat_importance_df"
   ]
  },
  {
   "cell_type": "code",
   "execution_count": 248,
   "id": "postal-heaven",
   "metadata": {},
   "outputs": [
    {
     "data": {
      "text/html": [
       "<div>\n",
       "<style scoped>\n",
       "    .dataframe tbody tr th:only-of-type {\n",
       "        vertical-align: middle;\n",
       "    }\n",
       "\n",
       "    .dataframe tbody tr th {\n",
       "        vertical-align: top;\n",
       "    }\n",
       "\n",
       "    .dataframe thead th {\n",
       "        text-align: right;\n",
       "    }\n",
       "</style>\n",
       "<table border=\"1\" class=\"dataframe\">\n",
       "  <thead>\n",
       "    <tr style=\"text-align: right;\">\n",
       "      <th></th>\n",
       "      <th>0</th>\n",
       "      <th>1</th>\n",
       "      <th>2</th>\n",
       "      <th>3</th>\n",
       "      <th>4</th>\n",
       "      <th>5</th>\n",
       "      <th>6</th>\n",
       "    </tr>\n",
       "  </thead>\n",
       "  <tbody>\n",
       "    <tr>\n",
       "      <th>0</th>\n",
       "      <td>0.332115</td>\n",
       "      <td>0.358616</td>\n",
       "      <td>0.138436</td>\n",
       "      <td>0.013001</td>\n",
       "      <td>0.022317</td>\n",
       "      <td>0.071611</td>\n",
       "      <td>0.063904</td>\n",
       "    </tr>\n",
       "    <tr>\n",
       "      <th>1</th>\n",
       "      <td>0.289925</td>\n",
       "      <td>0.216950</td>\n",
       "      <td>0.359064</td>\n",
       "      <td>0.021467</td>\n",
       "      <td>0.030286</td>\n",
       "      <td>0.015309</td>\n",
       "      <td>0.066998</td>\n",
       "    </tr>\n",
       "    <tr>\n",
       "      <th>2</th>\n",
       "      <td>0.335533</td>\n",
       "      <td>0.064580</td>\n",
       "      <td>0.332614</td>\n",
       "      <td>0.004077</td>\n",
       "      <td>0.052989</td>\n",
       "      <td>0.121706</td>\n",
       "      <td>0.088500</td>\n",
       "    </tr>\n",
       "    <tr>\n",
       "      <th>3</th>\n",
       "      <td>0.206329</td>\n",
       "      <td>0.276150</td>\n",
       "      <td>0.188057</td>\n",
       "      <td>0.012264</td>\n",
       "      <td>0.091609</td>\n",
       "      <td>0.050195</td>\n",
       "      <td>0.175397</td>\n",
       "    </tr>\n",
       "    <tr>\n",
       "      <th>4</th>\n",
       "      <td>0.278085</td>\n",
       "      <td>0.332384</td>\n",
       "      <td>0.212722</td>\n",
       "      <td>0.003007</td>\n",
       "      <td>0.039437</td>\n",
       "      <td>0.041504</td>\n",
       "      <td>0.092861</td>\n",
       "    </tr>\n",
       "  </tbody>\n",
       "</table>\n",
       "</div>"
      ],
      "text/plain": [
       "          0         1         2         3         4         5         6\n",
       "0  0.332115  0.358616  0.138436  0.013001  0.022317  0.071611  0.063904\n",
       "1  0.289925  0.216950  0.359064  0.021467  0.030286  0.015309  0.066998\n",
       "2  0.335533  0.064580  0.332614  0.004077  0.052989  0.121706  0.088500\n",
       "3  0.206329  0.276150  0.188057  0.012264  0.091609  0.050195  0.175397\n",
       "4  0.278085  0.332384  0.212722  0.003007  0.039437  0.041504  0.092861"
      ]
     },
     "execution_count": 248,
     "metadata": {},
     "output_type": "execute_result"
    }
   ],
   "source": [
    "df_feature_all = pd.DataFrame([tree.feature_importances_ for tree in reg.estimators_])\n",
    "df_feature_all.head()"
   ]
  },
  {
   "cell_type": "code",
   "execution_count": 249,
   "id": "posted-vehicle",
   "metadata": {},
   "outputs": [],
   "source": [
    "df_feature_long = pd.melt(df_feature_all,var_name='feature name', value_name='values')"
   ]
  },
  {
   "cell_type": "code",
   "execution_count": 250,
   "id": "hybrid-avatar",
   "metadata": {},
   "outputs": [
    {
     "data": {
      "image/png": "[encoded data removed]",
      "text/plain": [
       "<Figure size 1152x432 with 1 Axes>"
      ]
     },
     "metadata": {},
     "output_type": "display_data"
    }
   ],
   "source": [
    "feat_importance_df.plot(kind='bar');\n"
   ]
  },
  {
   "cell_type": "code",
   "execution_count": 251,
   "id": "communist-clerk",
   "metadata": {},
   "outputs": [],
   "source": [
    "lst = list(zip(X_train.columns,reg.feature_importances_))"
   ]
  },
  {
   "cell_type": "code",
   "execution_count": 387,
   "id": "roman-pioneer",
   "metadata": {},
   "outputs": [],
   "source": [
    "lst = sorted(lst, key = lambda x: x[1], reverse=True)\n",
    "feature_importance = pd.DataFrame(lst, columns=['Features','Feature Importance'])"
   ]
  },
  {
   "cell_type": "code",
   "execution_count": 388,
   "id": "sonic-aruba",
   "metadata": {},
   "outputs": [
    {
     "data": {
      "image/png": "[encoded data removed]",
      "text/plain": [
       "<Figure size 432x288 with 1 Axes>"
      ]
     },
     "metadata": {},
     "output_type": "display_data"
    }
   ],
   "source": [
    "feature_importance.plot(x='Features',y='Feature Importance',kind='bar',color=['mediumaquamarine','lightpink'])\n",
    "plt.xticks(rotation=45);\n"
   ]
  },
  {
   "cell_type": "markdown",
   "id": "alleged-active",
   "metadata": {},
   "source": [
    "## Now trying feature importance with interaction terms instead of binary terms:"
   ]
  },
  {
   "cell_type": "code",
   "execution_count": 254,
   "id": "arctic-jewel",
   "metadata": {},
   "outputs": [
    {
     "data": {
      "text/plain": [
       "RandomForestRegressor(n_estimators=1700)"
      ]
     },
     "execution_count": 254,
     "metadata": {},
     "output_type": "execute_result"
    }
   ],
   "source": [
    "reg2 = RandomForestRegressor(n_estimators=1700)\n",
    "reg2.fit(X_train2,y_train2)"
   ]
  },
  {
   "cell_type": "code",
   "execution_count": 255,
   "id": "narrow-sister",
   "metadata": {},
   "outputs": [
    {
     "data": {
      "text/plain": [
       "0.7516560170946607"
      ]
     },
     "execution_count": 255,
     "metadata": {},
     "output_type": "execute_result"
    }
   ],
   "source": [
    "reg2.score(X_val2,y_val2)"
   ]
  },
  {
   "cell_type": "code",
   "execution_count": 256,
   "id": "polar-bracelet",
   "metadata": {},
   "outputs": [
    {
     "data": {
      "text/html": [
       "<div>\n",
       "<style scoped>\n",
       "    .dataframe tbody tr th:only-of-type {\n",
       "        vertical-align: middle;\n",
       "    }\n",
       "\n",
       "    .dataframe tbody tr th {\n",
       "        vertical-align: top;\n",
       "    }\n",
       "\n",
       "    .dataframe thead th {\n",
       "        text-align: right;\n",
       "    }\n",
       "</style>\n",
       "<table border=\"1\" class=\"dataframe\">\n",
       "  <thead>\n",
       "    <tr style=\"text-align: right;\">\n",
       "      <th></th>\n",
       "      <th>feature importance</th>\n",
       "    </tr>\n",
       "  </thead>\n",
       "  <tbody>\n",
       "    <tr>\n",
       "      <th>Actors_RT</th>\n",
       "      <td>0.383139</td>\n",
       "    </tr>\n",
       "    <tr>\n",
       "      <th>Director_RT</th>\n",
       "      <td>0.202289</td>\n",
       "    </tr>\n",
       "    <tr>\n",
       "      <th>Adventure_RT</th>\n",
       "      <td>0.178051</td>\n",
       "    </tr>\n",
       "    <tr>\n",
       "      <th>Holiday_RT</th>\n",
       "      <td>0.078167</td>\n",
       "    </tr>\n",
       "    <tr>\n",
       "      <th>PG13_RT</th>\n",
       "      <td>0.063960</td>\n",
       "    </tr>\n",
       "    <tr>\n",
       "      <th>Trope_Count</th>\n",
       "      <td>0.050350</td>\n",
       "    </tr>\n",
       "    <tr>\n",
       "      <th>Runtime</th>\n",
       "      <td>0.044044</td>\n",
       "    </tr>\n",
       "  </tbody>\n",
       "</table>\n",
       "</div>"
      ],
      "text/plain": [
       "              feature importance\n",
       "Actors_RT               0.383139\n",
       "Director_RT             0.202289\n",
       "Adventure_RT            0.178051\n",
       "Holiday_RT              0.078167\n",
       "PG13_RT                 0.063960\n",
       "Trope_Count             0.050350\n",
       "Runtime                 0.044044"
      ]
     },
     "execution_count": 256,
     "metadata": {},
     "output_type": "execute_result"
    }
   ],
   "source": [
    "feat_importance_df2 = pd.DataFrame(reg2.feature_importances_,index=X_train2.columns, columns=['feature importance']).sort_values('feature importance', ascending=False)\n",
    "feat_importance_df2"
   ]
  },
  {
   "cell_type": "code",
   "execution_count": 257,
   "id": "committed-sponsorship",
   "metadata": {},
   "outputs": [
    {
     "data": {
      "text/html": [
       "<div>\n",
       "<style scoped>\n",
       "    .dataframe tbody tr th:only-of-type {\n",
       "        vertical-align: middle;\n",
       "    }\n",
       "\n",
       "    .dataframe tbody tr th {\n",
       "        vertical-align: top;\n",
       "    }\n",
       "\n",
       "    .dataframe thead th {\n",
       "        text-align: right;\n",
       "    }\n",
       "</style>\n",
       "<table border=\"1\" class=\"dataframe\">\n",
       "  <thead>\n",
       "    <tr style=\"text-align: right;\">\n",
       "      <th></th>\n",
       "      <th>0</th>\n",
       "      <th>1</th>\n",
       "      <th>2</th>\n",
       "      <th>3</th>\n",
       "      <th>4</th>\n",
       "      <th>5</th>\n",
       "      <th>6</th>\n",
       "    </tr>\n",
       "  </thead>\n",
       "  <tbody>\n",
       "    <tr>\n",
       "      <th>0</th>\n",
       "      <td>0.054264</td>\n",
       "      <td>0.072351</td>\n",
       "      <td>0.353863</td>\n",
       "      <td>0.031107</td>\n",
       "      <td>0.114749</td>\n",
       "      <td>0.306240</td>\n",
       "      <td>0.067426</td>\n",
       "    </tr>\n",
       "    <tr>\n",
       "      <th>1</th>\n",
       "      <td>0.010541</td>\n",
       "      <td>0.550319</td>\n",
       "      <td>0.183992</td>\n",
       "      <td>0.031873</td>\n",
       "      <td>0.060760</td>\n",
       "      <td>0.048583</td>\n",
       "      <td>0.113932</td>\n",
       "    </tr>\n",
       "    <tr>\n",
       "      <th>2</th>\n",
       "      <td>0.055235</td>\n",
       "      <td>0.311772</td>\n",
       "      <td>0.279806</td>\n",
       "      <td>0.076669</td>\n",
       "      <td>0.112387</td>\n",
       "      <td>0.137968</td>\n",
       "      <td>0.026163</td>\n",
       "    </tr>\n",
       "    <tr>\n",
       "      <th>3</th>\n",
       "      <td>0.075095</td>\n",
       "      <td>0.130316</td>\n",
       "      <td>0.441334</td>\n",
       "      <td>0.026990</td>\n",
       "      <td>0.116907</td>\n",
       "      <td>0.171900</td>\n",
       "      <td>0.037458</td>\n",
       "    </tr>\n",
       "    <tr>\n",
       "      <th>4</th>\n",
       "      <td>0.049731</td>\n",
       "      <td>0.163470</td>\n",
       "      <td>0.192370</td>\n",
       "      <td>0.003527</td>\n",
       "      <td>0.044768</td>\n",
       "      <td>0.523645</td>\n",
       "      <td>0.022487</td>\n",
       "    </tr>\n",
       "  </tbody>\n",
       "</table>\n",
       "</div>"
      ],
      "text/plain": [
       "          0         1         2         3         4         5         6\n",
       "0  0.054264  0.072351  0.353863  0.031107  0.114749  0.306240  0.067426\n",
       "1  0.010541  0.550319  0.183992  0.031873  0.060760  0.048583  0.113932\n",
       "2  0.055235  0.311772  0.279806  0.076669  0.112387  0.137968  0.026163\n",
       "3  0.075095  0.130316  0.441334  0.026990  0.116907  0.171900  0.037458\n",
       "4  0.049731  0.163470  0.192370  0.003527  0.044768  0.523645  0.022487"
      ]
     },
     "execution_count": 257,
     "metadata": {},
     "output_type": "execute_result"
    }
   ],
   "source": [
    "df_feature_all2 = pd.DataFrame([tree.feature_importances_ for tree in reg2.estimators_])\n",
    "df_feature_all2.head()"
   ]
  },
  {
   "cell_type": "code",
   "execution_count": 258,
   "id": "level-seeking",
   "metadata": {},
   "outputs": [],
   "source": [
    "lst2 = list(zip(X_train2.columns,reg2.feature_importances_))"
   ]
  },
  {
   "cell_type": "code",
   "execution_count": 259,
   "id": "joint-advance",
   "metadata": {},
   "outputs": [],
   "source": [
    "lst2 = sorted(lst2, key = lambda x: x[1], reverse=True)\n",
    "feature_importance = pd.DataFrame(lst2, columns=['Features','Feature Importance'])"
   ]
  },
  {
   "cell_type": "code",
   "execution_count": 260,
   "id": "general-projector",
   "metadata": {},
   "outputs": [
    {
     "data": {
      "image/png": "[encoded data removed]",
      "text/plain": [
       "<Figure size 1152x432 with 1 Axes>"
      ]
     },
     "metadata": {},
     "output_type": "display_data"
    }
   ],
   "source": [
    "feature_importance.plot(x='Features',y='Feature Importance',kind='bar', color=['mediumaquamarine','lightpink'])\n",
    "labels=['Actors','Directors','PG13','Holiday Season','Runtime']\n",
    "plt.xticks(rotation=45);\n"
   ]
  },
  {
   "cell_type": "code",
   "execution_count": 262,
   "id": "experienced-worcester",
   "metadata": {},
   "outputs": [
    {
     "data": {
      "text/plain": [
       "14768539857.9782"
      ]
     },
     "execution_count": 262,
     "metadata": {},
     "output_type": "execute_result"
    }
   ],
   "source": [
    "#RMSE\n",
    "p=lm.predict(X_val2)\n",
    "actual=y_test\n",
    "np.sqrt(np.mean((actual - p)**2)) #this is high"
   ]
  },
  {
   "cell_type": "code",
   "execution_count": 263,
   "id": "entitled-aviation",
   "metadata": {},
   "outputs": [],
   "source": [
    "'''scaler = StandardScaler()\n",
    "\n",
    "X_train2_scaled = scaler.fit_transform(X_train2)\n",
    "X_val2_scaled = scaler.transform(X_val2)\n",
    "X_test2_scaled = scaler.transform(X_test2)'''"
   ]
  },
  {
   "cell_type": "code",
   "execution_count": 266,
   "id": "supposed-communist",
   "metadata": {},
   "outputs": [],
   "source": [
    "'''lm_ridge=Ridge(alpha=1)\n",
    "lm_lasso=Lasso()'''"
   ]
  },
  {
   "cell_type": "code",
   "execution_count": 268,
   "id": "handy-papua",
   "metadata": {},
   "outputs": [
    {
     "data": {
      "text/plain": [
       "0.6907840923632587"
      ]
     },
     "execution_count": 268,
     "metadata": {},
     "output_type": "execute_result"
    }
   ],
   "source": [
    "'''lm.fit(X_train2, y_train2) #simple LR\n",
    "lm.score(X_val2,y_val2)'''"
   ]
  },
  {
   "cell_type": "code",
   "execution_count": 269,
   "id": "numerical-blond",
   "metadata": {},
   "outputs": [
    {
     "data": {
      "text/plain": [
       "0.6907447394507025"
      ]
     },
     "execution_count": 269,
     "metadata": {},
     "output_type": "execute_result"
    }
   ],
   "source": [
    "'''lm_ridge.fit(X_train2_scaled, y_train2) #Ridge\n",
    "lm_ridge.score(X_val2_scaled,y_val2)'''"
   ]
  },
  {
   "cell_type": "code",
   "execution_count": null,
   "id": "handed-peoples",
   "metadata": {},
   "outputs": [],
   "source": [
    "'''lm_lasso.fit(X_train2_scaled,y_train2)\n",
    "lm_lasso.score(X_val2_scaled,y_val2)'''"
   ]
  },
  {
   "cell_type": "markdown",
   "id": "legitimate-ribbon",
   "metadata": {},
   "source": [
    "CV for due diligence:"
   ]
  },
  {
   "cell_type": "code",
   "execution_count": 277,
   "id": "cleared-transcription",
   "metadata": {},
   "outputs": [],
   "source": [
    "y = interaction_df['Domestic']\n",
    "X = interaction_df[['Runtime','Director_RT','Actors_RT','PG13_RT','Holiday_RT','Adventure_RT','Trope_Count']]\n",
    "\n",
    "X, X_test, y, y_test = train_test_split(X, y, test_size=.2, random_state=10) \n"
   ]
  },
  {
   "cell_type": "code",
   "execution_count": 278,
   "id": "voluntary-clinton",
   "metadata": {},
   "outputs": [],
   "source": [
    "X, y = np.array(X), np.array(y)\n",
    "scaler=StandardScaler()\n",
    "scaledX=scaler.fit_transform(X)\n",
    "scaledXtest=scaler.transform(X_test)"
   ]
  },
  {
   "cell_type": "code",
   "execution_count": 284,
   "id": "particular-title",
   "metadata": {},
   "outputs": [],
   "source": [
    "lm=LinearRegression()\n",
    "lm_ridge=Ridge(alpha=1)\n",
    "kf=KFold(n_splits=5,shuffle=True,random_state=71)\n",
    "lm_lasso=Lasso()"
   ]
  },
  {
   "cell_type": "code",
   "execution_count": 285,
   "id": "elder-japanese",
   "metadata": {},
   "outputs": [
    {
     "data": {
      "text/plain": [
       "array([0.68905014, 0.39476909, 0.5179539 , 0.52666793, 0.66936337])"
      ]
     },
     "execution_count": 285,
     "metadata": {},
     "output_type": "execute_result"
    }
   ],
   "source": [
    "cross_val_score(lm,X,y,cv=kf,scoring='r2')"
   ]
  },
  {
   "cell_type": "code",
   "execution_count": 286,
   "id": "valuable-russian",
   "metadata": {},
   "outputs": [
    {
     "data": {
      "text/plain": [
       "0.5595608848027405"
      ]
     },
     "execution_count": 286,
     "metadata": {},
     "output_type": "execute_result"
    }
   ],
   "source": [
    "np.mean(cross_val_score(lm,X,y,cv=kf,scoring='r2'))"
   ]
  },
  {
   "cell_type": "code",
   "execution_count": 287,
   "id": "confidential-living",
   "metadata": {},
   "outputs": [
    {
     "data": {
      "text/plain": [
       "array([0.68905259, 0.39476686, 0.51795756, 0.52666686, 0.66936462])"
      ]
     },
     "execution_count": 287,
     "metadata": {},
     "output_type": "execute_result"
    }
   ],
   "source": [
    "cross_val_score(lm_ridge,X,y,cv=kf,scoring='r2')"
   ]
  },
  {
   "cell_type": "code",
   "execution_count": 283,
   "id": "coral-criticism",
   "metadata": {},
   "outputs": [
    {
     "data": {
      "text/plain": [
       "0.5595616965020044"
      ]
     },
     "execution_count": 283,
     "metadata": {},
     "output_type": "execute_result"
    }
   ],
   "source": [
    "np.mean(cross_val_score(lm_ridge, X, y, cv=kf, scoring='r2'))"
   ]
  },
  {
   "cell_type": "code",
   "execution_count": 288,
   "id": "promotional-knitting",
   "metadata": {},
   "outputs": [
    {
     "data": {
      "text/plain": [
       "array([0.68905014, 0.39476909, 0.5179539 , 0.52666793, 0.66936337])"
      ]
     },
     "execution_count": 288,
     "metadata": {},
     "output_type": "execute_result"
    }
   ],
   "source": [
    "cross_val_score(lm_lasso,X,y,cv=kf,scoring='r2')"
   ]
  },
  {
   "cell_type": "code",
   "execution_count": 289,
   "id": "military-sauce",
   "metadata": {},
   "outputs": [
    {
     "data": {
      "text/plain": [
       "0.5595608848397026"
      ]
     },
     "execution_count": 289,
     "metadata": {},
     "output_type": "execute_result"
    }
   ],
   "source": [
    "np.mean(cross_val_score(lm_lasso,X,y,cv=kf,scoring='r2'))"
   ]
  },
  {
   "cell_type": "code",
   "execution_count": null,
   "id": "experimental-complex",
   "metadata": {},
   "outputs": [],
   "source": []
  }
 ],
 "metadata": {
  "kernelspec": {
   "display_name": "Python [conda env:metis] *",
   "language": "python",
   "name": "conda-env-metis-py"
  },
  "language_info": {
   "codemirror_mode": {
    "name": "ipython",
    "version": 3
   },
   "file_extension": ".py",
   "mimetype": "text/x-python",
   "name": "python",
   "nbconvert_exporter": "python",
   "pygments_lexer": "ipython3",
   "version": "3.8.8"
  }
 },
 "nbformat": 4,
 "nbformat_minor": 5
}
